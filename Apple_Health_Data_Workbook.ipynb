{
 "cells": [
  {
   "cell_type": "code",
   "execution_count": 30,
   "metadata": {},
   "outputs": [],
   "source": [
    "#pip install xmltodict\n"
   ]
  },
  {
   "cell_type": "code",
   "execution_count": 31,
   "metadata": {},
   "outputs": [],
   "source": [
    "#import pandas as pd\n",
    "#import xmltodict\n",
    "#input_path = 'http://localhost/export.xml'\n",
    "#with open(input_path, 'r') as xml_file:\n",
    "#    input_data = xmltodict.parse(xml_file.read())"
   ]
  },
  {
   "cell_type": "code",
   "execution_count": 32,
   "metadata": {},
   "outputs": [],
   "source": [
    "import requests"
   ]
  },
  {
   "cell_type": "code",
   "execution_count": 33,
   "metadata": {},
   "outputs": [],
   "source": [
    "response = requests.get('http://localhost/export.xml')"
   ]
  },
  {
   "cell_type": "code",
   "execution_count": 34,
   "metadata": {},
   "outputs": [
    {
     "data": {
      "text/plain": [
       "True"
      ]
     },
     "execution_count": 34,
     "metadata": {},
     "output_type": "execute_result"
    }
   ],
   "source": [
    "response.ok"
   ]
  },
  {
   "cell_type": "code",
   "execution_count": 35,
   "metadata": {},
   "outputs": [],
   "source": [
    "import xmltodict\n",
    "import json"
   ]
  },
  {
   "cell_type": "code",
   "execution_count": 36,
   "metadata": {},
   "outputs": [
    {
     "name": "stdout",
     "output_type": "stream",
     "text": [
      "CPU times: user 17.1 s, sys: 3.36 s, total: 20.4 s\n",
      "Wall time: 24.4 s\n"
     ]
    }
   ],
   "source": [
    "%%time\n",
    "d = xmltodict.parse(response.content)"
   ]
  },
  {
   "cell_type": "code",
   "execution_count": 37,
   "metadata": {},
   "outputs": [
    {
     "name": "stdout",
     "output_type": "stream",
     "text": [
      "{\n",
      "  \"HealthData\": {\n",
      "    \"@locale\": \"en_US\",\n",
      "    \"ExportDate\": {\n",
      "      \"@value\": \"2020-01-27 15:56:23 -0800\"\n",
      "    },\n",
      "    \"Me\": {\n",
      "      \"@HKCharacteristicTypeIdentifierDateOfBirth\": \"1966-05-03\",\n",
      "      \"@HKCharacteristicTypeIdentifierBiologicalSex\": \"HKBiologicalSexMale\",\n",
      "      \"@HKCharacteristicTypeIdentifierBloodType\": \"HKBloodTypeNotSet\",\n",
      "      \"@HKCharacteristicTypeIdentifierFitzpatrickSkinType\": \"HKFitzpatrickSkinTypeNotSet\"\n",
      "    },\n",
      "    \"Record\": [\n",
      "      {\n",
      "        \"@type\": \"HKQuantityTypeIdentifierDietaryWater\",\n",
      "        \"@sourceName\": \"My Water\",\n",
      "        \"@sourceVersion\": \"3.4.0.6\",\n",
      "        \"@unit\": \"mL\",\n",
      "        \"@creationDate\": \"2017-02-12 13:30:40 -0800\",\n",
      "        \"@startDate\": \"2017-02-12 13:30:40 -0800\",\n",
      "        \"@endDate\": \"2017-02-12\n",
      ".\n",
      ".\n",
      ".\n",
      "\n"
     ]
    }
   ],
   "source": [
    "print(json.dumps(d, indent=2)[:750])\n",
    "print('.\\n'*3)"
   ]
  },
  {
   "cell_type": "code",
   "execution_count": 38,
   "metadata": {},
   "outputs": [],
   "source": [
    "import pandas as pd"
   ]
  },
  {
   "cell_type": "code",
   "execution_count": 39,
   "metadata": {},
   "outputs": [],
   "source": [
    "df = pd.DataFrame.from_dict(d['HealthData']['Record'])"
   ]
  },
  {
   "cell_type": "code",
   "execution_count": 40,
   "metadata": {},
   "outputs": [
    {
     "data": {
      "text/plain": [
       "Index(['@type', '@sourceName', '@sourceVersion', '@unit', '@creationDate',\n",
       "       '@startDate', '@endDate', '@value', 'MetadataEntry', '@device'],\n",
       "      dtype='object')"
      ]
     },
     "execution_count": 40,
     "metadata": {},
     "output_type": "execute_result"
    }
   ],
   "source": [
    "df.columns"
   ]
  },
  {
   "cell_type": "code",
   "execution_count": null,
   "metadata": {},
   "outputs": [],
   "source": []
  },
  {
   "cell_type": "code",
   "execution_count": 41,
   "metadata": {},
   "outputs": [
    {
     "data": {
      "text/plain": [
       "(711262, 10)"
      ]
     },
     "execution_count": 41,
     "metadata": {},
     "output_type": "execute_result"
    }
   ],
   "source": [
    "df.shape"
   ]
  },
  {
   "cell_type": "code",
   "execution_count": 42,
   "metadata": {},
   "outputs": [
    {
     "data": {
      "text/plain": [
       "Index(['@type', '@sourceName', '@sourceVersion', '@unit', '@creationDate',\n",
       "       '@startDate', '@endDate', '@value', 'MetadataEntry', '@device'],\n",
       "      dtype='object')"
      ]
     },
     "execution_count": 42,
     "metadata": {},
     "output_type": "execute_result"
    }
   ],
   "source": [
    "df.columns"
   ]
  },
  {
   "cell_type": "code",
   "execution_count": 43,
   "metadata": {},
   "outputs": [
    {
     "data": {
      "text/plain": [
       "Christopher’s Apple Watch    408952\n",
       "Filchy                       297357\n",
       "MyFitnessPal                   2195\n",
       "Clock                          1392\n",
       "Health                         1053\n",
       "Carb Manager                    204\n",
       "My Water                         45\n",
       "Headspace                        41\n",
       "SnoreLab                         23\n",
       "Name: @sourceName, dtype: int64"
      ]
     },
     "execution_count": 43,
     "metadata": {},
     "output_type": "execute_result"
    }
   ],
   "source": [
    "df['@sourceName'].value_counts()"
   ]
  },
  {
   "cell_type": "code",
   "execution_count": 44,
   "metadata": {},
   "outputs": [
    {
     "data": {
      "text/plain": [
       "HKQuantityTypeIdentifierActiveEnergyBurned           248275\n",
       "HKQuantityTypeIdentifierDistanceWalkingRunning       181639\n",
       "HKQuantityTypeIdentifierStepCount                    176810\n",
       "HKQuantityTypeIdentifierHeartRate                     45208\n",
       "HKQuantityTypeIdentifierBasalEnergyBurned             39648\n",
       "HKQuantityTypeIdentifierAppleExerciseTime              6351\n",
       "HKCategoryTypeIdentifierAppleStandHour                 4742\n",
       "HKQuantityTypeIdentifierFlightsClimbed                 3634\n",
       "HKCategoryTypeIdentifierSleepAnalysis                  1413\n",
       "HKQuantityTypeIdentifierBodyMass                        879\n",
       "HKQuantityTypeIdentifierBodyFatPercentage               451\n",
       "HKQuantityTypeIdentifierBodyMassIndex                   328\n",
       "HKQuantityTypeIdentifierDietaryIron                     119\n",
       "HKQuantityTypeIdentifierDietaryCalcium                  118\n",
       "HKQuantityTypeIdentifierDietaryPotassium                115\n",
       "HKQuantityTypeIdentifierDietarySugar                    114\n",
       "HKQuantityTypeIdentifierDietaryCarbohydrates            114\n",
       "HKQuantityTypeIdentifierDietaryProtein                  113\n",
       "HKQuantityTypeIdentifierDietarySodium                   113\n",
       "HKQuantityTypeIdentifierDietaryFatMonounsaturated       112\n",
       "HKQuantityTypeIdentifierDietaryFatPolyunsaturated       112\n",
       "HKQuantityTypeIdentifierDietaryFiber                    112\n",
       "HKQuantityTypeIdentifierDietaryVitaminC                 112\n",
       "HKQuantityTypeIdentifierDietaryFatSaturated             110\n",
       "HKQuantityTypeIdentifierDietaryCholesterol              110\n",
       "HKQuantityTypeIdentifierDietaryEnergyConsumed           108\n",
       "HKQuantityTypeIdentifierDietaryFatTotal                 108\n",
       "HKQuantityTypeIdentifierDietaryWater                     45\n",
       "HKCategoryTypeIdentifierMindfulSession                   41\n",
       "HKQuantityTypeIdentifierDietaryCopper                     9\n",
       "HKQuantityTypeIdentifierDietaryPhosphorus                 7\n",
       "HKQuantityTypeIdentifierDietaryVitaminE                   7\n",
       "HKQuantityTypeIdentifierDietaryMagnesium                  7\n",
       "HKQuantityTypeIdentifierDietaryFolate                     7\n",
       "HKQuantityTypeIdentifierDietaryVitaminD                   7\n",
       "HKQuantityTypeIdentifierDietaryNiacin                     7\n",
       "HKQuantityTypeIdentifierDietaryVitaminB6                  7\n",
       "HKQuantityTypeIdentifierDietaryZinc                       7\n",
       "HKQuantityTypeIdentifierDietaryVitaminK                   7\n",
       "HKQuantityTypeIdentifierDietaryVitaminB12                 7\n",
       "HKQuantityTypeIdentifierDietaryThiamin                    7\n",
       "HKQuantityTypeIdentifierDietarySelenium                   7\n",
       "HKQuantityTypeIdentifierDietaryRiboflavin                 7\n",
       "HKQuantityTypeIdentifierDietaryVitaminA                   6\n",
       "HKQuantityTypeIdentifierHeight                            2\n",
       "Name: @type, dtype: int64"
      ]
     },
     "execution_count": 44,
     "metadata": {},
     "output_type": "execute_result"
    }
   ],
   "source": [
    "df['@type'].value_counts()"
   ]
  },
  {
   "cell_type": "code",
   "execution_count": 45,
   "metadata": {},
   "outputs": [],
   "source": [
    "#body = df['@type'] == 'HKQuantityTypeIdentifierBodyMass'"
   ]
  },
  {
   "cell_type": "code",
   "execution_count": 46,
   "metadata": {},
   "outputs": [],
   "source": [
    "#body.dropna()"
   ]
  },
  {
   "cell_type": "code",
   "execution_count": 47,
   "metadata": {},
   "outputs": [],
   "source": [
    "#body.value_counts()"
   ]
  },
  {
   "cell_type": "code",
   "execution_count": 48,
   "metadata": {},
   "outputs": [],
   "source": [
    "#body.shape"
   ]
  },
  {
   "cell_type": "code",
   "execution_count": 49,
   "metadata": {},
   "outputs": [],
   "source": [
    "weight = df[df['@type'] == 'HKQuantityTypeIdentifierBodyMass']"
   ]
  },
  {
   "cell_type": "code",
   "execution_count": 50,
   "metadata": {},
   "outputs": [
    {
     "data": {
      "text/html": [
       "<div>\n",
       "<style scoped>\n",
       "    .dataframe tbody tr th:only-of-type {\n",
       "        vertical-align: middle;\n",
       "    }\n",
       "\n",
       "    .dataframe tbody tr th {\n",
       "        vertical-align: top;\n",
       "    }\n",
       "\n",
       "    .dataframe thead th {\n",
       "        text-align: right;\n",
       "    }\n",
       "</style>\n",
       "<table border=\"1\" class=\"dataframe\">\n",
       "  <thead>\n",
       "    <tr style=\"text-align: right;\">\n",
       "      <th></th>\n",
       "      <th>@type</th>\n",
       "      <th>@sourceName</th>\n",
       "      <th>@sourceVersion</th>\n",
       "      <th>@unit</th>\n",
       "      <th>@creationDate</th>\n",
       "      <th>@startDate</th>\n",
       "      <th>@endDate</th>\n",
       "      <th>@value</th>\n",
       "      <th>MetadataEntry</th>\n",
       "      <th>@device</th>\n",
       "    </tr>\n",
       "  </thead>\n",
       "  <tbody>\n",
       "    <tr>\n",
       "      <td>375</td>\n",
       "      <td>HKQuantityTypeIdentifierBodyMass</td>\n",
       "      <td>Filchy</td>\n",
       "      <td>9.3.2</td>\n",
       "      <td>lb</td>\n",
       "      <td>2016-06-20 15:06:04 -0800</td>\n",
       "      <td>2016-06-20 15:06:04 -0800</td>\n",
       "      <td>2016-06-20 15:06:04 -0800</td>\n",
       "      <td>157</td>\n",
       "      <td>NaN</td>\n",
       "      <td>NaN</td>\n",
       "    </tr>\n",
       "    <tr>\n",
       "      <td>376</td>\n",
       "      <td>HKQuantityTypeIdentifierBodyMass</td>\n",
       "      <td>MyFitnessPal</td>\n",
       "      <td>15212</td>\n",
       "      <td>lb</td>\n",
       "      <td>2016-06-27 14:23:55 -0800</td>\n",
       "      <td>2016-06-26 14:23:00 -0800</td>\n",
       "      <td>2016-06-26 14:23:00 -0800</td>\n",
       "      <td>154.8</td>\n",
       "      <td>NaN</td>\n",
       "      <td>NaN</td>\n",
       "    </tr>\n",
       "    <tr>\n",
       "      <td>377</td>\n",
       "      <td>HKQuantityTypeIdentifierBodyMass</td>\n",
       "      <td>MyFitnessPal</td>\n",
       "      <td>15212</td>\n",
       "      <td>lb</td>\n",
       "      <td>2016-06-29 13:09:24 -0800</td>\n",
       "      <td>2016-06-27 13:09:00 -0800</td>\n",
       "      <td>2016-06-27 13:09:00 -0800</td>\n",
       "      <td>154.6</td>\n",
       "      <td>NaN</td>\n",
       "      <td>NaN</td>\n",
       "    </tr>\n",
       "    <tr>\n",
       "      <td>378</td>\n",
       "      <td>HKQuantityTypeIdentifierBodyMass</td>\n",
       "      <td>MyFitnessPal</td>\n",
       "      <td>15212</td>\n",
       "      <td>lb</td>\n",
       "      <td>2016-06-30 06:32:49 -0800</td>\n",
       "      <td>2016-06-28 06:32:00 -0800</td>\n",
       "      <td>2016-06-28 06:32:00 -0800</td>\n",
       "      <td>153.8</td>\n",
       "      <td>NaN</td>\n",
       "      <td>NaN</td>\n",
       "    </tr>\n",
       "    <tr>\n",
       "      <td>379</td>\n",
       "      <td>HKQuantityTypeIdentifierBodyMass</td>\n",
       "      <td>MyFitnessPal</td>\n",
       "      <td>15212</td>\n",
       "      <td>lb</td>\n",
       "      <td>2016-06-30 06:39:40 -0800</td>\n",
       "      <td>2016-06-29 06:39:00 -0800</td>\n",
       "      <td>2016-06-29 06:39:00 -0800</td>\n",
       "      <td>153</td>\n",
       "      <td>NaN</td>\n",
       "      <td>NaN</td>\n",
       "    </tr>\n",
       "  </tbody>\n",
       "</table>\n",
       "</div>"
      ],
      "text/plain": [
       "                                @type   @sourceName @sourceVersion @unit  \\\n",
       "375  HKQuantityTypeIdentifierBodyMass        Filchy          9.3.2    lb   \n",
       "376  HKQuantityTypeIdentifierBodyMass  MyFitnessPal          15212    lb   \n",
       "377  HKQuantityTypeIdentifierBodyMass  MyFitnessPal          15212    lb   \n",
       "378  HKQuantityTypeIdentifierBodyMass  MyFitnessPal          15212    lb   \n",
       "379  HKQuantityTypeIdentifierBodyMass  MyFitnessPal          15212    lb   \n",
       "\n",
       "                 @creationDate                 @startDate  \\\n",
       "375  2016-06-20 15:06:04 -0800  2016-06-20 15:06:04 -0800   \n",
       "376  2016-06-27 14:23:55 -0800  2016-06-26 14:23:00 -0800   \n",
       "377  2016-06-29 13:09:24 -0800  2016-06-27 13:09:00 -0800   \n",
       "378  2016-06-30 06:32:49 -0800  2016-06-28 06:32:00 -0800   \n",
       "379  2016-06-30 06:39:40 -0800  2016-06-29 06:39:00 -0800   \n",
       "\n",
       "                      @endDate @value MetadataEntry @device  \n",
       "375  2016-06-20 15:06:04 -0800    157           NaN     NaN  \n",
       "376  2016-06-26 14:23:00 -0800  154.8           NaN     NaN  \n",
       "377  2016-06-27 13:09:00 -0800  154.6           NaN     NaN  \n",
       "378  2016-06-28 06:32:00 -0800  153.8           NaN     NaN  \n",
       "379  2016-06-29 06:39:00 -0800    153           NaN     NaN  "
      ]
     },
     "execution_count": 50,
     "metadata": {},
     "output_type": "execute_result"
    }
   ],
   "source": [
    "weight.head()"
   ]
  },
  {
   "cell_type": "code",
   "execution_count": 51,
   "metadata": {},
   "outputs": [
    {
     "data": {
      "text/plain": [
       "(879, 10)"
      ]
     },
     "execution_count": 51,
     "metadata": {},
     "output_type": "execute_result"
    }
   ],
   "source": [
    "weight.shape"
   ]
  },
  {
   "cell_type": "code",
   "execution_count": 52,
   "metadata": {},
   "outputs": [],
   "source": [
    "fat = df[df['@type'] == 'HKQuantityTypeIdentifierBodyFatPercentage']"
   ]
  },
  {
   "cell_type": "code",
   "execution_count": 53,
   "metadata": {},
   "outputs": [
    {
     "data": {
      "text/html": [
       "<div>\n",
       "<style scoped>\n",
       "    .dataframe tbody tr th:only-of-type {\n",
       "        vertical-align: middle;\n",
       "    }\n",
       "\n",
       "    .dataframe tbody tr th {\n",
       "        vertical-align: top;\n",
       "    }\n",
       "\n",
       "    .dataframe thead th {\n",
       "        text-align: right;\n",
       "    }\n",
       "</style>\n",
       "<table border=\"1\" class=\"dataframe\">\n",
       "  <thead>\n",
       "    <tr style=\"text-align: right;\">\n",
       "      <th></th>\n",
       "      <th>@type</th>\n",
       "      <th>@sourceName</th>\n",
       "      <th>@sourceVersion</th>\n",
       "      <th>@unit</th>\n",
       "      <th>@creationDate</th>\n",
       "      <th>@startDate</th>\n",
       "      <th>@endDate</th>\n",
       "      <th>@value</th>\n",
       "      <th>MetadataEntry</th>\n",
       "      <th>@device</th>\n",
       "    </tr>\n",
       "  </thead>\n",
       "  <tbody>\n",
       "    <tr>\n",
       "      <td>46462</td>\n",
       "      <td>HKQuantityTypeIdentifierBodyFatPercentage</td>\n",
       "      <td>Health</td>\n",
       "      <td>10.3.1</td>\n",
       "      <td>%</td>\n",
       "      <td>2017-04-17 06:03:57 -0800</td>\n",
       "      <td>2017-04-17 06:03:00 -0800</td>\n",
       "      <td>2017-04-17 06:03:00 -0800</td>\n",
       "      <td>0.129</td>\n",
       "      <td>{'@key': 'HKWasUserEntered', '@value': '1'}</td>\n",
       "      <td>NaN</td>\n",
       "    </tr>\n",
       "    <tr>\n",
       "      <td>46463</td>\n",
       "      <td>HKQuantityTypeIdentifierBodyFatPercentage</td>\n",
       "      <td>Health</td>\n",
       "      <td>10.3.1</td>\n",
       "      <td>%</td>\n",
       "      <td>2017-04-18 05:34:33 -0800</td>\n",
       "      <td>2017-04-18 05:34:00 -0800</td>\n",
       "      <td>2017-04-18 05:34:00 -0800</td>\n",
       "      <td>0.128</td>\n",
       "      <td>{'@key': 'HKWasUserEntered', '@value': '1'}</td>\n",
       "      <td>NaN</td>\n",
       "    </tr>\n",
       "    <tr>\n",
       "      <td>46464</td>\n",
       "      <td>HKQuantityTypeIdentifierBodyFatPercentage</td>\n",
       "      <td>Health</td>\n",
       "      <td>10.3.1</td>\n",
       "      <td>%</td>\n",
       "      <td>2017-04-19 06:24:15 -0800</td>\n",
       "      <td>2017-04-19 06:24:00 -0800</td>\n",
       "      <td>2017-04-19 06:24:00 -0800</td>\n",
       "      <td>0.128</td>\n",
       "      <td>{'@key': 'HKWasUserEntered', '@value': '1'}</td>\n",
       "      <td>NaN</td>\n",
       "    </tr>\n",
       "    <tr>\n",
       "      <td>46465</td>\n",
       "      <td>HKQuantityTypeIdentifierBodyFatPercentage</td>\n",
       "      <td>Health</td>\n",
       "      <td>10.3.1</td>\n",
       "      <td>%</td>\n",
       "      <td>2017-04-20 05:45:47 -0800</td>\n",
       "      <td>2017-04-20 05:45:00 -0800</td>\n",
       "      <td>2017-04-20 05:45:00 -0800</td>\n",
       "      <td>0.129</td>\n",
       "      <td>{'@key': 'HKWasUserEntered', '@value': '1'}</td>\n",
       "      <td>NaN</td>\n",
       "    </tr>\n",
       "    <tr>\n",
       "      <td>46466</td>\n",
       "      <td>HKQuantityTypeIdentifierBodyFatPercentage</td>\n",
       "      <td>Health</td>\n",
       "      <td>10.3.1</td>\n",
       "      <td>%</td>\n",
       "      <td>2017-04-21 06:49:59 -0800</td>\n",
       "      <td>2017-04-21 06:49:00 -0800</td>\n",
       "      <td>2017-04-21 06:49:00 -0800</td>\n",
       "      <td>0.128</td>\n",
       "      <td>{'@key': 'HKWasUserEntered', '@value': '1'}</td>\n",
       "      <td>NaN</td>\n",
       "    </tr>\n",
       "  </tbody>\n",
       "</table>\n",
       "</div>"
      ],
      "text/plain": [
       "                                           @type @sourceName @sourceVersion  \\\n",
       "46462  HKQuantityTypeIdentifierBodyFatPercentage      Health         10.3.1   \n",
       "46463  HKQuantityTypeIdentifierBodyFatPercentage      Health         10.3.1   \n",
       "46464  HKQuantityTypeIdentifierBodyFatPercentage      Health         10.3.1   \n",
       "46465  HKQuantityTypeIdentifierBodyFatPercentage      Health         10.3.1   \n",
       "46466  HKQuantityTypeIdentifierBodyFatPercentage      Health         10.3.1   \n",
       "\n",
       "      @unit              @creationDate                 @startDate  \\\n",
       "46462     %  2017-04-17 06:03:57 -0800  2017-04-17 06:03:00 -0800   \n",
       "46463     %  2017-04-18 05:34:33 -0800  2017-04-18 05:34:00 -0800   \n",
       "46464     %  2017-04-19 06:24:15 -0800  2017-04-19 06:24:00 -0800   \n",
       "46465     %  2017-04-20 05:45:47 -0800  2017-04-20 05:45:00 -0800   \n",
       "46466     %  2017-04-21 06:49:59 -0800  2017-04-21 06:49:00 -0800   \n",
       "\n",
       "                        @endDate @value  \\\n",
       "46462  2017-04-17 06:03:00 -0800  0.129   \n",
       "46463  2017-04-18 05:34:00 -0800  0.128   \n",
       "46464  2017-04-19 06:24:00 -0800  0.128   \n",
       "46465  2017-04-20 05:45:00 -0800  0.129   \n",
       "46466  2017-04-21 06:49:00 -0800  0.128   \n",
       "\n",
       "                                     MetadataEntry @device  \n",
       "46462  {'@key': 'HKWasUserEntered', '@value': '1'}     NaN  \n",
       "46463  {'@key': 'HKWasUserEntered', '@value': '1'}     NaN  \n",
       "46464  {'@key': 'HKWasUserEntered', '@value': '1'}     NaN  \n",
       "46465  {'@key': 'HKWasUserEntered', '@value': '1'}     NaN  \n",
       "46466  {'@key': 'HKWasUserEntered', '@value': '1'}     NaN  "
      ]
     },
     "execution_count": 53,
     "metadata": {},
     "output_type": "execute_result"
    }
   ],
   "source": [
    "fat.head()"
   ]
  },
  {
   "cell_type": "code",
   "execution_count": 54,
   "metadata": {},
   "outputs": [
    {
     "data": {
      "text/plain": [
       "(451, 10)"
      ]
     },
     "execution_count": 54,
     "metadata": {},
     "output_type": "execute_result"
    }
   ],
   "source": [
    "fat.shape"
   ]
  },
  {
   "cell_type": "code",
   "execution_count": 55,
   "metadata": {},
   "outputs": [],
   "source": [
    "fat = fat.drop(columns=['@type','@sourceName','@sourceVersion','MetadataEntry','@device','@endDate','@startDate'])"
   ]
  },
  {
   "cell_type": "code",
   "execution_count": 61,
   "metadata": {},
   "outputs": [
    {
     "data": {
      "text/html": [
       "<div>\n",
       "<style scoped>\n",
       "    .dataframe tbody tr th:only-of-type {\n",
       "        vertical-align: middle;\n",
       "    }\n",
       "\n",
       "    .dataframe tbody tr th {\n",
       "        vertical-align: top;\n",
       "    }\n",
       "\n",
       "    .dataframe thead th {\n",
       "        text-align: right;\n",
       "    }\n",
       "</style>\n",
       "<table border=\"1\" class=\"dataframe\">\n",
       "  <thead>\n",
       "    <tr style=\"text-align: right;\">\n",
       "      <th></th>\n",
       "      <th>@unit</th>\n",
       "      <th>@creationDate</th>\n",
       "      <th>@value</th>\n",
       "      <th>date</th>\n",
       "    </tr>\n",
       "  </thead>\n",
       "  <tbody>\n",
       "    <tr>\n",
       "      <td>46462</td>\n",
       "      <td>%</td>\n",
       "      <td>2017-04-17 06:03:57 -0800</td>\n",
       "      <td>0.129</td>\n",
       "      <td>2017-04-17 06:03:57-08:00</td>\n",
       "    </tr>\n",
       "    <tr>\n",
       "      <td>46463</td>\n",
       "      <td>%</td>\n",
       "      <td>2017-04-18 05:34:33 -0800</td>\n",
       "      <td>0.128</td>\n",
       "      <td>2017-04-18 05:34:33-08:00</td>\n",
       "    </tr>\n",
       "    <tr>\n",
       "      <td>46464</td>\n",
       "      <td>%</td>\n",
       "      <td>2017-04-19 06:24:15 -0800</td>\n",
       "      <td>0.128</td>\n",
       "      <td>2017-04-19 06:24:15-08:00</td>\n",
       "    </tr>\n",
       "    <tr>\n",
       "      <td>46465</td>\n",
       "      <td>%</td>\n",
       "      <td>2017-04-20 05:45:47 -0800</td>\n",
       "      <td>0.129</td>\n",
       "      <td>2017-04-20 05:45:47-08:00</td>\n",
       "    </tr>\n",
       "    <tr>\n",
       "      <td>46466</td>\n",
       "      <td>%</td>\n",
       "      <td>2017-04-21 06:49:59 -0800</td>\n",
       "      <td>0.128</td>\n",
       "      <td>2017-04-21 06:49:59-08:00</td>\n",
       "    </tr>\n",
       "    <tr>\n",
       "      <td>...</td>\n",
       "      <td>...</td>\n",
       "      <td>...</td>\n",
       "      <td>...</td>\n",
       "      <td>...</td>\n",
       "    </tr>\n",
       "    <tr>\n",
       "      <td>46908</td>\n",
       "      <td>%</td>\n",
       "      <td>2020-01-22 06:45:28 -0800</td>\n",
       "      <td>0.143</td>\n",
       "      <td>2020-01-22 06:45:28-08:00</td>\n",
       "    </tr>\n",
       "    <tr>\n",
       "      <td>46909</td>\n",
       "      <td>%</td>\n",
       "      <td>2020-01-23 06:01:57 -0800</td>\n",
       "      <td>0.144</td>\n",
       "      <td>2020-01-23 06:01:57-08:00</td>\n",
       "    </tr>\n",
       "    <tr>\n",
       "      <td>46910</td>\n",
       "      <td>%</td>\n",
       "      <td>2020-01-25 07:47:31 -0800</td>\n",
       "      <td>0.143</td>\n",
       "      <td>2020-01-25 07:47:31-08:00</td>\n",
       "    </tr>\n",
       "    <tr>\n",
       "      <td>46911</td>\n",
       "      <td>%</td>\n",
       "      <td>2020-01-26 07:39:17 -0800</td>\n",
       "      <td>0.144</td>\n",
       "      <td>2020-01-26 07:39:17-08:00</td>\n",
       "    </tr>\n",
       "    <tr>\n",
       "      <td>46912</td>\n",
       "      <td>%</td>\n",
       "      <td>2020-01-27 06:55:30 -0800</td>\n",
       "      <td>0.141</td>\n",
       "      <td>2020-01-27 06:55:30-08:00</td>\n",
       "    </tr>\n",
       "  </tbody>\n",
       "</table>\n",
       "<p>451 rows × 4 columns</p>\n",
       "</div>"
      ],
      "text/plain": [
       "      @unit              @creationDate @value                      date\n",
       "46462     %  2017-04-17 06:03:57 -0800  0.129 2017-04-17 06:03:57-08:00\n",
       "46463     %  2017-04-18 05:34:33 -0800  0.128 2017-04-18 05:34:33-08:00\n",
       "46464     %  2017-04-19 06:24:15 -0800  0.128 2017-04-19 06:24:15-08:00\n",
       "46465     %  2017-04-20 05:45:47 -0800  0.129 2017-04-20 05:45:47-08:00\n",
       "46466     %  2017-04-21 06:49:59 -0800  0.128 2017-04-21 06:49:59-08:00\n",
       "...     ...                        ...    ...                       ...\n",
       "46908     %  2020-01-22 06:45:28 -0800  0.143 2020-01-22 06:45:28-08:00\n",
       "46909     %  2020-01-23 06:01:57 -0800  0.144 2020-01-23 06:01:57-08:00\n",
       "46910     %  2020-01-25 07:47:31 -0800  0.143 2020-01-25 07:47:31-08:00\n",
       "46911     %  2020-01-26 07:39:17 -0800  0.144 2020-01-26 07:39:17-08:00\n",
       "46912     %  2020-01-27 06:55:30 -0800  0.141 2020-01-27 06:55:30-08:00\n",
       "\n",
       "[451 rows x 4 columns]"
      ]
     },
     "execution_count": 61,
     "metadata": {},
     "output_type": "execute_result"
    }
   ],
   "source": [
    "fat"
   ]
  },
  {
   "cell_type": "code",
   "execution_count": 63,
   "metadata": {},
   "outputs": [],
   "source": [
    "fat['date']= pd.to_datetime(df['@creationDate'])"
   ]
  },
  {
   "cell_type": "code",
   "execution_count": 57,
   "metadata": {},
   "outputs": [],
   "source": [
    "weight = weight.drop(columns=['@type','@sourceName','@sourceVersion','MetadataEntry','@device','@endDate','@startDate'])"
   ]
  },
  {
   "cell_type": "code",
   "execution_count": 58,
   "metadata": {},
   "outputs": [
    {
     "data": {
      "text/html": [
       "<div>\n",
       "<style scoped>\n",
       "    .dataframe tbody tr th:only-of-type {\n",
       "        vertical-align: middle;\n",
       "    }\n",
       "\n",
       "    .dataframe tbody tr th {\n",
       "        vertical-align: top;\n",
       "    }\n",
       "\n",
       "    .dataframe thead th {\n",
       "        text-align: right;\n",
       "    }\n",
       "</style>\n",
       "<table border=\"1\" class=\"dataframe\">\n",
       "  <thead>\n",
       "    <tr style=\"text-align: right;\">\n",
       "      <th></th>\n",
       "      <th>@unit</th>\n",
       "      <th>@creationDate</th>\n",
       "      <th>@value</th>\n",
       "    </tr>\n",
       "  </thead>\n",
       "  <tbody>\n",
       "    <tr>\n",
       "      <td>375</td>\n",
       "      <td>lb</td>\n",
       "      <td>2016-06-20 15:06:04 -0800</td>\n",
       "      <td>157</td>\n",
       "    </tr>\n",
       "    <tr>\n",
       "      <td>376</td>\n",
       "      <td>lb</td>\n",
       "      <td>2016-06-27 14:23:55 -0800</td>\n",
       "      <td>154.8</td>\n",
       "    </tr>\n",
       "    <tr>\n",
       "      <td>377</td>\n",
       "      <td>lb</td>\n",
       "      <td>2016-06-29 13:09:24 -0800</td>\n",
       "      <td>154.6</td>\n",
       "    </tr>\n",
       "    <tr>\n",
       "      <td>378</td>\n",
       "      <td>lb</td>\n",
       "      <td>2016-06-30 06:32:49 -0800</td>\n",
       "      <td>153.8</td>\n",
       "    </tr>\n",
       "    <tr>\n",
       "      <td>379</td>\n",
       "      <td>lb</td>\n",
       "      <td>2016-06-30 06:39:40 -0800</td>\n",
       "      <td>153</td>\n",
       "    </tr>\n",
       "    <tr>\n",
       "      <td>...</td>\n",
       "      <td>...</td>\n",
       "      <td>...</td>\n",
       "      <td>...</td>\n",
       "    </tr>\n",
       "    <tr>\n",
       "      <td>1249</td>\n",
       "      <td>lb</td>\n",
       "      <td>2020-01-22 06:44:48 -0800</td>\n",
       "      <td>156.6</td>\n",
       "    </tr>\n",
       "    <tr>\n",
       "      <td>1250</td>\n",
       "      <td>lb</td>\n",
       "      <td>2020-01-23 06:01:45 -0800</td>\n",
       "      <td>157.2</td>\n",
       "    </tr>\n",
       "    <tr>\n",
       "      <td>1251</td>\n",
       "      <td>lb</td>\n",
       "      <td>2020-01-25 07:47:24 -0800</td>\n",
       "      <td>156</td>\n",
       "    </tr>\n",
       "    <tr>\n",
       "      <td>1252</td>\n",
       "      <td>lb</td>\n",
       "      <td>2020-01-26 07:39:11 -0800</td>\n",
       "      <td>156.8</td>\n",
       "    </tr>\n",
       "    <tr>\n",
       "      <td>1253</td>\n",
       "      <td>lb</td>\n",
       "      <td>2020-01-27 06:55:24 -0800</td>\n",
       "      <td>155.8</td>\n",
       "    </tr>\n",
       "  </tbody>\n",
       "</table>\n",
       "<p>879 rows × 3 columns</p>\n",
       "</div>"
      ],
      "text/plain": [
       "     @unit              @creationDate @value\n",
       "375     lb  2016-06-20 15:06:04 -0800    157\n",
       "376     lb  2016-06-27 14:23:55 -0800  154.8\n",
       "377     lb  2016-06-29 13:09:24 -0800  154.6\n",
       "378     lb  2016-06-30 06:32:49 -0800  153.8\n",
       "379     lb  2016-06-30 06:39:40 -0800    153\n",
       "...    ...                        ...    ...\n",
       "1249    lb  2020-01-22 06:44:48 -0800  156.6\n",
       "1250    lb  2020-01-23 06:01:45 -0800  157.2\n",
       "1251    lb  2020-01-25 07:47:24 -0800    156\n",
       "1252    lb  2020-01-26 07:39:11 -0800  156.8\n",
       "1253    lb  2020-01-27 06:55:24 -0800  155.8\n",
       "\n",
       "[879 rows x 3 columns]"
      ]
     },
     "execution_count": 58,
     "metadata": {},
     "output_type": "execute_result"
    }
   ],
   "source": [
    "weight"
   ]
  },
  {
   "cell_type": "code",
   "execution_count": 62,
   "metadata": {},
   "outputs": [
    {
     "data": {
      "text/html": [
       "<div>\n",
       "<style scoped>\n",
       "    .dataframe tbody tr th:only-of-type {\n",
       "        vertical-align: middle;\n",
       "    }\n",
       "\n",
       "    .dataframe tbody tr th {\n",
       "        vertical-align: top;\n",
       "    }\n",
       "\n",
       "    .dataframe thead th {\n",
       "        text-align: right;\n",
       "    }\n",
       "</style>\n",
       "<table border=\"1\" class=\"dataframe\">\n",
       "  <thead>\n",
       "    <tr style=\"text-align: right;\">\n",
       "      <th></th>\n",
       "      <th>@unit</th>\n",
       "      <th>@creationDate</th>\n",
       "      <th>@value</th>\n",
       "      <th>date</th>\n",
       "    </tr>\n",
       "  </thead>\n",
       "  <tbody>\n",
       "    <tr>\n",
       "      <td>46462</td>\n",
       "      <td>%</td>\n",
       "      <td>2017-04-17 06:03:57 -0800</td>\n",
       "      <td>0.129</td>\n",
       "      <td>2017-04-17 06:03:57-08:00</td>\n",
       "    </tr>\n",
       "    <tr>\n",
       "      <td>46463</td>\n",
       "      <td>%</td>\n",
       "      <td>2017-04-18 05:34:33 -0800</td>\n",
       "      <td>0.128</td>\n",
       "      <td>2017-04-18 05:34:33-08:00</td>\n",
       "    </tr>\n",
       "    <tr>\n",
       "      <td>46464</td>\n",
       "      <td>%</td>\n",
       "      <td>2017-04-19 06:24:15 -0800</td>\n",
       "      <td>0.128</td>\n",
       "      <td>2017-04-19 06:24:15-08:00</td>\n",
       "    </tr>\n",
       "    <tr>\n",
       "      <td>46465</td>\n",
       "      <td>%</td>\n",
       "      <td>2017-04-20 05:45:47 -0800</td>\n",
       "      <td>0.129</td>\n",
       "      <td>2017-04-20 05:45:47-08:00</td>\n",
       "    </tr>\n",
       "    <tr>\n",
       "      <td>46466</td>\n",
       "      <td>%</td>\n",
       "      <td>2017-04-21 06:49:59 -0800</td>\n",
       "      <td>0.128</td>\n",
       "      <td>2017-04-21 06:49:59-08:00</td>\n",
       "    </tr>\n",
       "  </tbody>\n",
       "</table>\n",
       "</div>"
      ],
      "text/plain": [
       "      @unit              @creationDate @value                      date\n",
       "46462     %  2017-04-17 06:03:57 -0800  0.129 2017-04-17 06:03:57-08:00\n",
       "46463     %  2017-04-18 05:34:33 -0800  0.128 2017-04-18 05:34:33-08:00\n",
       "46464     %  2017-04-19 06:24:15 -0800  0.128 2017-04-19 06:24:15-08:00\n",
       "46465     %  2017-04-20 05:45:47 -0800  0.129 2017-04-20 05:45:47-08:00\n",
       "46466     %  2017-04-21 06:49:59 -0800  0.128 2017-04-21 06:49:59-08:00"
      ]
     },
     "execution_count": 62,
     "metadata": {},
     "output_type": "execute_result"
    }
   ],
   "source": [
    "fat.head()"
   ]
  },
  {
   "cell_type": "code",
   "execution_count": 78,
   "metadata": {},
   "outputs": [
    {
     "data": {
      "text/plain": [
       "451"
      ]
     },
     "execution_count": 78,
     "metadata": {},
     "output_type": "execute_result"
    }
   ],
   "source": [
    "len(fat)"
   ]
  },
  {
   "cell_type": "code",
   "execution_count": 66,
   "metadata": {},
   "outputs": [
    {
     "data": {
      "text/plain": [
       "46462   2017-04-17 06:03:57-08:00\n",
       "46463   2017-04-18 05:34:33-08:00\n",
       "46464   2017-04-19 06:24:15-08:00\n",
       "46465   2017-04-20 05:45:47-08:00\n",
       "46466   2017-04-21 06:49:59-08:00\n",
       "                   ...           \n",
       "46908   2020-01-22 06:45:28-08:00\n",
       "46909   2020-01-23 06:01:57-08:00\n",
       "46910   2020-01-25 07:47:31-08:00\n",
       "46911   2020-01-26 07:39:17-08:00\n",
       "46912   2020-01-27 06:55:30-08:00\n",
       "Name: date, Length: 451, dtype: datetime64[ns, pytz.FixedOffset(-480)]"
      ]
     },
     "execution_count": 66,
     "metadata": {},
     "output_type": "execute_result"
    }
   ],
   "source": [
    "fat['date']"
   ]
  },
  {
   "cell_type": "code",
   "execution_count": 70,
   "metadata": {},
   "outputs": [
    {
     "data": {
      "text/plain": [
       "'Monday'"
      ]
     },
     "execution_count": 70,
     "metadata": {},
     "output_type": "execute_result"
    }
   ],
   "source": [
    "fat['date'][46462].day_name()\n"
   ]
  },
  {
   "cell_type": "code",
   "execution_count": 75,
   "metadata": {},
   "outputs": [
    {
     "data": {
      "text/plain": [
       "17"
      ]
     },
     "execution_count": 75,
     "metadata": {},
     "output_type": "execute_result"
    }
   ],
   "source": [
    "fat['date'][46462].day"
   ]
  },
  {
   "cell_type": "code",
   "execution_count": 76,
   "metadata": {},
   "outputs": [
    {
     "data": {
      "text/plain": [
       "2017"
      ]
     },
     "execution_count": 76,
     "metadata": {},
     "output_type": "execute_result"
    }
   ],
   "source": [
    "fat['date'][46462].year"
   ]
  },
  {
   "cell_type": "code",
   "execution_count": 77,
   "metadata": {},
   "outputs": [
    {
     "data": {
      "text/plain": [
       "4"
      ]
     },
     "execution_count": 77,
     "metadata": {},
     "output_type": "execute_result"
    }
   ],
   "source": [
    "fat['date'][46462].month"
   ]
  },
  {
   "cell_type": "code",
   "execution_count": null,
   "metadata": {},
   "outputs": [],
   "source": []
  }
 ],
 "metadata": {
  "kernelspec": {
   "display_name": "Python 3",
   "language": "python",
   "name": "python3"
  },
  "language_info": {
   "codemirror_mode": {
    "name": "ipython",
    "version": 3
   },
   "file_extension": ".py",
   "mimetype": "text/x-python",
   "name": "python",
   "nbconvert_exporter": "python",
   "pygments_lexer": "ipython3",
   "version": "3.7.4"
  }
 },
 "nbformat": 4,
 "nbformat_minor": 4
}
