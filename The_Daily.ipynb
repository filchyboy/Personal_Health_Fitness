{
 "cells": [
  {
   "cell_type": "code",
   "execution_count": 52,
   "metadata": {
    "colab": {},
    "colab_type": "code",
    "id": "gtkrED5c3o6x"
   },
   "outputs": [],
   "source": [
    "import pandas as pd"
   ]
  },
  {
   "cell_type": "code",
   "execution_count": 53,
   "metadata": {},
   "outputs": [],
   "source": [
    "pd.options.mode.chained_assignment = None"
   ]
  },
  {
   "cell_type": "code",
   "execution_count": 54,
   "metadata": {
    "colab": {},
    "colab_type": "code",
    "id": "juah2vg130Hx"
   },
   "outputs": [],
   "source": [
    "df = pd.read_csv('https://docs.google.com/spreadsheets/d/e/2PACX-1vTMIUP6_JIoxWSAFCe1h6Hz12r-41t6qHv5cCXIBmYJUK2KS188pKkZnkr4jJRpIcC3mRZV36z21oNv/pub?gid=0&single=true&output=csv')"
   ]
  },
  {
   "cell_type": "code",
   "execution_count": 57,
   "metadata": {
    "colab": {},
    "colab_type": "code",
    "id": "aVpNpl__5vni"
   },
   "outputs": [],
   "source": [
    "df['Date'] = pd.to_datetime(df['Date'])\n",
    "\n",
    "for i in range(len(df['Date'])):\n",
    "    df['DOW'][i] = df['Date'][i].day_name()"
   ]
  },
  {
   "cell_type": "code",
   "execution_count": 58,
   "metadata": {},
   "outputs": [],
   "source": [
    "features = ['Weight','Fat','Recovery','Strain','HRV','RHR','Sleep Debt','MHR',\n",
    "            'REM','Deep Sleep','Calories','AHR']\n",
    "drops = ['Acro','Meditate','Snore','Coffee','Handstands','Spanish','Push-ups',\n",
    "         'Pull-ups','Sit-ups','Swing','Carbs','Journal','Spinal Mobility',\n",
    "         'Flexibility','Notes']"
   ]
  },
  {
   "cell_type": "code",
   "execution_count": 87,
   "metadata": {},
   "outputs": [],
   "source": [
    "for each in features:\n",
    "    df[each] = df[each].interpolate(method='linear')"
   ]
  },
  {
   "cell_type": "code",
   "execution_count": 60,
   "metadata": {},
   "outputs": [],
   "source": [
    "df = df.drop(labels=drops,axis=1)"
   ]
  },
  {
   "cell_type": "code",
   "execution_count": 61,
   "metadata": {},
   "outputs": [
    {
     "data": {
      "text/plain": [
       "(393, 14)"
      ]
     },
     "execution_count": 61,
     "metadata": {},
     "output_type": "execute_result"
    }
   ],
   "source": [
    "df.shape"
   ]
  },
  {
   "cell_type": "code",
   "execution_count": 62,
   "metadata": {
    "colab": {
     "base_uri": "https://localhost:8080/",
     "height": 241
    },
    "colab_type": "code",
    "id": "cKRBhqiSy7eh",
    "outputId": "5fb8af23-9a9e-4879-9416-3bf1c3972762"
   },
   "outputs": [
    {
     "data": {
      "text/html": [
       "<div>\n",
       "<style scoped>\n",
       "    .dataframe tbody tr th:only-of-type {\n",
       "        vertical-align: middle;\n",
       "    }\n",
       "\n",
       "    .dataframe tbody tr th {\n",
       "        vertical-align: top;\n",
       "    }\n",
       "\n",
       "    .dataframe thead th {\n",
       "        text-align: right;\n",
       "    }\n",
       "</style>\n",
       "<table border=\"1\" class=\"dataframe\">\n",
       "  <thead>\n",
       "    <tr style=\"text-align: right;\">\n",
       "      <th></th>\n",
       "      <th>Date</th>\n",
       "      <th>Weight</th>\n",
       "      <th>Fat</th>\n",
       "      <th>Sleep Debt</th>\n",
       "      <th>REM</th>\n",
       "      <th>Deep Sleep</th>\n",
       "      <th>Strain</th>\n",
       "      <th>Calories</th>\n",
       "      <th>AHR</th>\n",
       "      <th>MHR</th>\n",
       "      <th>HRV</th>\n",
       "      <th>RHR</th>\n",
       "      <th>Recovery</th>\n",
       "      <th>DOW</th>\n",
       "    </tr>\n",
       "  </thead>\n",
       "  <tbody>\n",
       "    <tr>\n",
       "      <td>0</td>\n",
       "      <td>2019-01-01</td>\n",
       "      <td>149.4</td>\n",
       "      <td>12.6</td>\n",
       "      <td>71.0</td>\n",
       "      <td>69.0</td>\n",
       "      <td>89.0</td>\n",
       "      <td>11.6</td>\n",
       "      <td>2819.0</td>\n",
       "      <td>77.0</td>\n",
       "      <td>156.0</td>\n",
       "      <td>38.0</td>\n",
       "      <td>61.0</td>\n",
       "      <td>53.0</td>\n",
       "      <td>Tuesday</td>\n",
       "    </tr>\n",
       "    <tr>\n",
       "      <td>1</td>\n",
       "      <td>2019-01-02</td>\n",
       "      <td>149.4</td>\n",
       "      <td>12.6</td>\n",
       "      <td>71.0</td>\n",
       "      <td>69.0</td>\n",
       "      <td>89.0</td>\n",
       "      <td>11.5</td>\n",
       "      <td>3173.0</td>\n",
       "      <td>76.0</td>\n",
       "      <td>168.0</td>\n",
       "      <td>36.0</td>\n",
       "      <td>61.0</td>\n",
       "      <td>55.0</td>\n",
       "      <td>Wednesday</td>\n",
       "    </tr>\n",
       "    <tr>\n",
       "      <td>2</td>\n",
       "      <td>2019-01-03</td>\n",
       "      <td>149.2</td>\n",
       "      <td>12.6</td>\n",
       "      <td>76.0</td>\n",
       "      <td>123.0</td>\n",
       "      <td>20.0</td>\n",
       "      <td>12.5</td>\n",
       "      <td>3441.0</td>\n",
       "      <td>75.0</td>\n",
       "      <td>155.0</td>\n",
       "      <td>50.0</td>\n",
       "      <td>60.0</td>\n",
       "      <td>90.0</td>\n",
       "      <td>Thursday</td>\n",
       "    </tr>\n",
       "    <tr>\n",
       "      <td>3</td>\n",
       "      <td>2019-01-04</td>\n",
       "      <td>149.2</td>\n",
       "      <td>12.6</td>\n",
       "      <td>23.0</td>\n",
       "      <td>123.0</td>\n",
       "      <td>21.0</td>\n",
       "      <td>15.5</td>\n",
       "      <td>5318.0</td>\n",
       "      <td>82.0</td>\n",
       "      <td>163.0</td>\n",
       "      <td>26.0</td>\n",
       "      <td>61.0</td>\n",
       "      <td>34.0</td>\n",
       "      <td>Friday</td>\n",
       "    </tr>\n",
       "    <tr>\n",
       "      <td>4</td>\n",
       "      <td>2019-01-05</td>\n",
       "      <td>149.6</td>\n",
       "      <td>12.8</td>\n",
       "      <td>34.0</td>\n",
       "      <td>77.0</td>\n",
       "      <td>10.0</td>\n",
       "      <td>13.9</td>\n",
       "      <td>4013.0</td>\n",
       "      <td>81.0</td>\n",
       "      <td>169.0</td>\n",
       "      <td>24.0</td>\n",
       "      <td>65.0</td>\n",
       "      <td>25.0</td>\n",
       "      <td>Saturday</td>\n",
       "    </tr>\n",
       "  </tbody>\n",
       "</table>\n",
       "</div>"
      ],
      "text/plain": [
       "        Date  Weight   Fat  Sleep Debt    REM  Deep Sleep  Strain  Calories  \\\n",
       "0 2019-01-01   149.4  12.6        71.0   69.0        89.0    11.6    2819.0   \n",
       "1 2019-01-02   149.4  12.6        71.0   69.0        89.0    11.5    3173.0   \n",
       "2 2019-01-03   149.2  12.6        76.0  123.0        20.0    12.5    3441.0   \n",
       "3 2019-01-04   149.2  12.6        23.0  123.0        21.0    15.5    5318.0   \n",
       "4 2019-01-05   149.6  12.8        34.0   77.0        10.0    13.9    4013.0   \n",
       "\n",
       "    AHR    MHR   HRV   RHR  Recovery        DOW  \n",
       "0  77.0  156.0  38.0  61.0      53.0    Tuesday  \n",
       "1  76.0  168.0  36.0  61.0      55.0  Wednesday  \n",
       "2  75.0  155.0  50.0  60.0      90.0   Thursday  \n",
       "3  82.0  163.0  26.0  61.0      34.0     Friday  \n",
       "4  81.0  169.0  24.0  65.0      25.0   Saturday  "
      ]
     },
     "execution_count": 62,
     "metadata": {},
     "output_type": "execute_result"
    }
   ],
   "source": [
    "df.head()"
   ]
  },
  {
   "cell_type": "code",
   "execution_count": 63,
   "metadata": {
    "colab": {
     "base_uri": "https://localhost:8080/",
     "height": 241
    },
    "colab_type": "code",
    "id": "IpGxfeOXy-Ec",
    "outputId": "d041dd51-f156-4e60-c690-8b7550b0f29d"
   },
   "outputs": [
    {
     "data": {
      "text/html": [
       "<div>\n",
       "<style scoped>\n",
       "    .dataframe tbody tr th:only-of-type {\n",
       "        vertical-align: middle;\n",
       "    }\n",
       "\n",
       "    .dataframe tbody tr th {\n",
       "        vertical-align: top;\n",
       "    }\n",
       "\n",
       "    .dataframe thead th {\n",
       "        text-align: right;\n",
       "    }\n",
       "</style>\n",
       "<table border=\"1\" class=\"dataframe\">\n",
       "  <thead>\n",
       "    <tr style=\"text-align: right;\">\n",
       "      <th></th>\n",
       "      <th>Date</th>\n",
       "      <th>Weight</th>\n",
       "      <th>Fat</th>\n",
       "      <th>Sleep Debt</th>\n",
       "      <th>REM</th>\n",
       "      <th>Deep Sleep</th>\n",
       "      <th>Strain</th>\n",
       "      <th>Calories</th>\n",
       "      <th>AHR</th>\n",
       "      <th>MHR</th>\n",
       "      <th>HRV</th>\n",
       "      <th>RHR</th>\n",
       "      <th>Recovery</th>\n",
       "      <th>DOW</th>\n",
       "    </tr>\n",
       "  </thead>\n",
       "  <tbody>\n",
       "    <tr>\n",
       "      <td>388</td>\n",
       "      <td>2020-01-24</td>\n",
       "      <td>157.2</td>\n",
       "      <td>14.4</td>\n",
       "      <td>89.0</td>\n",
       "      <td>93.0</td>\n",
       "      <td>130.0</td>\n",
       "      <td>16.8</td>\n",
       "      <td>3274.0</td>\n",
       "      <td>90.0</td>\n",
       "      <td>163.0</td>\n",
       "      <td>41.0</td>\n",
       "      <td>67.0</td>\n",
       "      <td>79.0</td>\n",
       "      <td>Friday</td>\n",
       "    </tr>\n",
       "    <tr>\n",
       "      <td>389</td>\n",
       "      <td>2020-01-25</td>\n",
       "      <td>156.0</td>\n",
       "      <td>14.3</td>\n",
       "      <td>85.0</td>\n",
       "      <td>105.0</td>\n",
       "      <td>81.0</td>\n",
       "      <td>15.8</td>\n",
       "      <td>2837.0</td>\n",
       "      <td>87.0</td>\n",
       "      <td>163.0</td>\n",
       "      <td>31.0</td>\n",
       "      <td>63.0</td>\n",
       "      <td>47.0</td>\n",
       "      <td>Saturday</td>\n",
       "    </tr>\n",
       "    <tr>\n",
       "      <td>390</td>\n",
       "      <td>2020-01-26</td>\n",
       "      <td>156.8</td>\n",
       "      <td>14.4</td>\n",
       "      <td>87.0</td>\n",
       "      <td>57.0</td>\n",
       "      <td>117.0</td>\n",
       "      <td>9.2</td>\n",
       "      <td>1724.0</td>\n",
       "      <td>81.0</td>\n",
       "      <td>159.0</td>\n",
       "      <td>35.0</td>\n",
       "      <td>60.0</td>\n",
       "      <td>59.0</td>\n",
       "      <td>Sunday</td>\n",
       "    </tr>\n",
       "    <tr>\n",
       "      <td>391</td>\n",
       "      <td>2020-01-27</td>\n",
       "      <td>155.8</td>\n",
       "      <td>14.1</td>\n",
       "      <td>66.0</td>\n",
       "      <td>103.0</td>\n",
       "      <td>115.0</td>\n",
       "      <td>8.5</td>\n",
       "      <td>1893.0</td>\n",
       "      <td>78.0</td>\n",
       "      <td>160.0</td>\n",
       "      <td>39.0</td>\n",
       "      <td>61.0</td>\n",
       "      <td>73.0</td>\n",
       "      <td>Monday</td>\n",
       "    </tr>\n",
       "    <tr>\n",
       "      <td>392</td>\n",
       "      <td>2020-01-28</td>\n",
       "      <td>157.2</td>\n",
       "      <td>14.4</td>\n",
       "      <td>66.0</td>\n",
       "      <td>80.0</td>\n",
       "      <td>106.0</td>\n",
       "      <td>8.5</td>\n",
       "      <td>1893.0</td>\n",
       "      <td>78.0</td>\n",
       "      <td>160.0</td>\n",
       "      <td>29.0</td>\n",
       "      <td>67.0</td>\n",
       "      <td>38.0</td>\n",
       "      <td>Tuesday</td>\n",
       "    </tr>\n",
       "  </tbody>\n",
       "</table>\n",
       "</div>"
      ],
      "text/plain": [
       "          Date  Weight   Fat  Sleep Debt    REM  Deep Sleep  Strain  Calories  \\\n",
       "388 2020-01-24   157.2  14.4        89.0   93.0       130.0    16.8    3274.0   \n",
       "389 2020-01-25   156.0  14.3        85.0  105.0        81.0    15.8    2837.0   \n",
       "390 2020-01-26   156.8  14.4        87.0   57.0       117.0     9.2    1724.0   \n",
       "391 2020-01-27   155.8  14.1        66.0  103.0       115.0     8.5    1893.0   \n",
       "392 2020-01-28   157.2  14.4        66.0   80.0       106.0     8.5    1893.0   \n",
       "\n",
       "      AHR    MHR   HRV   RHR  Recovery       DOW  \n",
       "388  90.0  163.0  41.0  67.0      79.0    Friday  \n",
       "389  87.0  163.0  31.0  63.0      47.0  Saturday  \n",
       "390  81.0  159.0  35.0  60.0      59.0    Sunday  \n",
       "391  78.0  160.0  39.0  61.0      73.0    Monday  \n",
       "392  78.0  160.0  29.0  67.0      38.0   Tuesday  "
      ]
     },
     "execution_count": 63,
     "metadata": {},
     "output_type": "execute_result"
    }
   ],
   "source": [
    "df.tail()"
   ]
  },
  {
   "cell_type": "code",
   "execution_count": 89,
   "metadata": {},
   "outputs": [
    {
     "data": {
      "text/plain": [
       "11.237277353689556"
      ]
     },
     "execution_count": 89,
     "metadata": {},
     "output_type": "execute_result"
    }
   ],
   "source": [
    "df['Strain'].mean()"
   ]
  },
  {
   "cell_type": "code",
   "execution_count": 92,
   "metadata": {},
   "outputs": [
    {
     "name": "stdout",
     "output_type": "stream",
     "text": [
      "Weight 154.04783715012732\n",
      "Fat 13.80419847328244\n",
      "Recovery 64.52544529262077\n",
      "Strain 11.237277353689556\n",
      "HRV 38.08269720101781\n",
      "RHR 63.764631043257\n",
      "Sleep Debt 83.39185750636132\n",
      "MHR 159.47582697201017\n",
      "REM 94.24173027989822\n",
      "Deep Sleep 75.9885496183206\n",
      "Calories 2702.3651399491096\n",
      "AHR 79.86386768447836\n"
     ]
    }
   ],
   "source": [
    "for i in features:\n",
    "    print(i,df[i].mean())"
   ]
  },
  {
   "cell_type": "code",
   "execution_count": 64,
   "metadata": {
    "colab": {
     "base_uri": "https://localhost:8080/",
     "height": 340
    },
    "colab_type": "code",
    "id": "bDOF1fzXzL9_",
    "outputId": "955e617a-442d-42fc-9772-2bbe9afd1726"
   },
   "outputs": [
    {
     "name": "stdout",
     "output_type": "stream",
     "text": [
      "Average Sleep Debt Minutes / Day : 83.39185750636132\n",
      "Average REM Minutes / Day : 94.24173027989822\n",
      "Average Deep Sleep Minutes / Day : 75.9885496183206\n",
      "(-0.175, 34.8]     16\n",
      "(34.8, 69.6]       87\n",
      "(69.6, 104.4]     228\n",
      "(104.4, 139.2]     61\n",
      "(139.2, 174.0]      1\n",
      "Name: Sleep Debt, dtype: int64\n",
      "(4.818, 50.25]      44\n",
      "(50.25, 95.5]      149\n",
      "(95.5, 140.75]     175\n",
      "(140.75, 186.0]     25\n",
      "Name: REM, dtype: int64\n",
      "(1.836, 42.75]      51\n",
      "(42.75, 83.5]      204\n",
      "(83.5, 124.25]     122\n",
      "(124.25, 165.0]     16\n",
      "Name: Deep Sleep, dtype: int64\n"
     ]
    }
   ],
   "source": [
    "df['Sleep Debt']\n",
    "sleep_debt = df['Sleep Debt'].sum()/len(df['Sleep Debt'])\n",
    "print('Average Sleep Debt Minutes / Day :',sleep_debt)\n",
    "df['REM']\n",
    "rem = df['REM'].sum()/len(df['REM'])\n",
    "print('Average REM Minutes / Day :',rem)\n",
    "df['Deep Sleep']\n",
    "deep_sleep = df['Deep Sleep'].sum()/len(df['Deep Sleep'])\n",
    "print('Average Deep Sleep Minutes / Day :',deep_sleep)\n",
    "pd.cut(df['Sleep Debt'], bins=5)\n",
    "print(df['Sleep Debt'].value_counts(bins=5, sort=False))\n",
    "pd.cut(df['REM'], bins=4)\n",
    "print(df['REM'].value_counts(bins=4, sort=False))\n",
    "pd.cut(df['Deep Sleep'], bins=4)\n",
    "print(df['Deep Sleep'].value_counts(bins=4, sort=False))"
   ]
  },
  {
   "cell_type": "code",
   "execution_count": 65,
   "metadata": {
    "colab": {
     "base_uri": "https://localhost:8080/",
     "height": 34
    },
    "colab_type": "code",
    "id": "tWH-DON1iXKX",
    "outputId": "5a6213b9-87e0-4717-9a63-0ee68d847103"
   },
   "outputs": [
    {
     "name": "stdout",
     "output_type": "stream",
     "text": [
      "Calories / Day : 2702.3651399491096\n"
     ]
    }
   ],
   "source": [
    "calories = df['Calories'].sum()/len(df['Calories'])\n",
    "print('Calories / Day :',calories)"
   ]
  },
  {
   "cell_type": "code",
   "execution_count": 66,
   "metadata": {
    "colab": {
     "base_uri": "https://localhost:8080/",
     "height": 34
    },
    "colab_type": "code",
    "id": "Q304E-GqtgJm",
    "outputId": "eab869a6-1a33-47dc-ac68-fcf6c24dd794"
   },
   "outputs": [
    {
     "name": "stdout",
     "output_type": "stream",
     "text": [
      "18916.555979643766\n"
     ]
    }
   ],
   "source": [
    "print(calories*7)"
   ]
  },
  {
   "cell_type": "code",
   "execution_count": 67,
   "metadata": {
    "colab": {
     "base_uri": "https://localhost:8080/",
     "height": 34
    },
    "colab_type": "code",
    "id": "4R2CvUlUlmiu",
    "outputId": "6acc92fb-e71c-4238-def8-d3cd1baa3a45"
   },
   "outputs": [
    {
     "data": {
      "text/plain": [
       "1062029.5"
      ]
     },
     "execution_count": 67,
     "metadata": {},
     "output_type": "execute_result"
    }
   ],
   "source": [
    "df['Calories'].sum()"
   ]
  },
  {
   "cell_type": "code",
   "execution_count": 68,
   "metadata": {
    "colab": {
     "base_uri": "https://localhost:8080/",
     "height": 153
    },
    "colab_type": "code",
    "id": "Gh3r04Gnka8d",
    "outputId": "327408b3-b229-4f90-8253-6a54c5e3f88d"
   },
   "outputs": [
    {
     "data": {
      "text/plain": [
       "(1471.156, 2024.0]     49\n",
       "(2024.0, 2573.0]      161\n",
       "(2573.0, 3122.0]       98\n",
       "(3122.0, 3671.0]       39\n",
       "(3671.0, 4220.0]       24\n",
       "(4220.0, 4769.0]       15\n",
       "(4769.0, 5318.0]        7\n",
       "Name: Calories, dtype: int64"
      ]
     },
     "execution_count": 68,
     "metadata": {},
     "output_type": "execute_result"
    }
   ],
   "source": [
    "pd.cut(df['Calories'], bins=7)\n",
    "df['Calories'].value_counts(bins=7, sort=False)"
   ]
  },
  {
   "cell_type": "code",
   "execution_count": 69,
   "metadata": {
    "colab": {
     "base_uri": "https://localhost:8080/",
     "height": 34
    },
    "colab_type": "code",
    "id": "GXu0t6-vqdfk",
    "outputId": "c822b343-bd76-404f-e147-19d38464a6c3"
   },
   "outputs": [
    {
     "name": "stdout",
     "output_type": "stream",
     "text": [
      "HRV / Day : 38.08269720101781\n"
     ]
    }
   ],
   "source": [
    "hrv = df['HRV'].sum()/len(df['HRV'])\n",
    "print('HRV / Day :',hrv)"
   ]
  },
  {
   "cell_type": "code",
   "execution_count": 70,
   "metadata": {
    "colab": {
     "base_uri": "https://localhost:8080/",
     "height": 153
    },
    "colab_type": "code",
    "id": "g1gQzQVxqXHd",
    "outputId": "eff85727-11b9-4d5e-a37c-a6ed2bab898a"
   },
   "outputs": [
    {
     "data": {
      "text/plain": [
       "(9.928, 20.143]      36\n",
       "(20.143, 30.286]     88\n",
       "(30.286, 40.429]     72\n",
       "(40.429, 50.571]    173\n",
       "(50.571, 60.714]     22\n",
       "(60.714, 70.857]      0\n",
       "(70.857, 81.0]        2\n",
       "Name: HRV, dtype: int64"
      ]
     },
     "execution_count": 70,
     "metadata": {},
     "output_type": "execute_result"
    }
   ],
   "source": [
    "pd.cut(df['HRV'], bins=7)\n",
    "df['HRV'].value_counts(bins=7, sort=False)"
   ]
  },
  {
   "cell_type": "code",
   "execution_count": 71,
   "metadata": {
    "colab": {
     "base_uri": "https://localhost:8080/",
     "height": 34
    },
    "colab_type": "code",
    "id": "9FmbK067qzXy",
    "outputId": "ac61e8f5-8d42-467a-8b19-43a9d75538fa"
   },
   "outputs": [
    {
     "name": "stdout",
     "output_type": "stream",
     "text": [
      "RHR / Day : 63.764631043257\n"
     ]
    }
   ],
   "source": [
    "rhr = df['RHR'].sum()/len(df['RHR'])\n",
    "print('RHR / Day :',rhr)"
   ]
  },
  {
   "cell_type": "code",
   "execution_count": 72,
   "metadata": {
    "colab": {
     "base_uri": "https://localhost:8080/",
     "height": 153
    },
    "colab_type": "code",
    "id": "0MvxS9J0q9QU",
    "outputId": "7aacf589-405b-482e-f1cb-ac455b55ba06"
   },
   "outputs": [
    {
     "data": {
      "text/plain": [
       "(30.945, 38.714]      1\n",
       "(38.714, 46.429]      0\n",
       "(46.429, 54.143]      0\n",
       "(54.143, 61.857]    155\n",
       "(61.857, 69.571]    198\n",
       "(69.571, 77.286]     31\n",
       "(77.286, 85.0]        8\n",
       "Name: RHR, dtype: int64"
      ]
     },
     "execution_count": 72,
     "metadata": {},
     "output_type": "execute_result"
    }
   ],
   "source": [
    "pd.cut(df['RHR'], bins=7)\n",
    "df['RHR'].value_counts(bins=7, sort=False)"
   ]
  },
  {
   "cell_type": "code",
   "execution_count": 73,
   "metadata": {
    "colab": {
     "base_uri": "https://localhost:8080/",
     "height": 34
    },
    "colab_type": "code",
    "id": "aB_yqPN317HR",
    "outputId": "93052b60-a716-4271-d545-2282737ba33a"
   },
   "outputs": [
    {
     "name": "stdout",
     "output_type": "stream",
     "text": [
      "AHR / Day : 79.86386768447836\n"
     ]
    }
   ],
   "source": [
    "ahr = df['AHR'].sum()/len(df['AHR'])\n",
    "print('AHR / Day :',ahr)"
   ]
  },
  {
   "cell_type": "code",
   "execution_count": 74,
   "metadata": {
    "colab": {
     "base_uri": "https://localhost:8080/",
     "height": 153
    },
    "colab_type": "code",
    "id": "dYyjNPkl2RR8",
    "outputId": "3976e3af-09bb-4a81-c8c6-f0cdb32f2c55"
   },
   "outputs": [
    {
     "data": {
      "text/plain": [
       "(70.97699999999999, 74.143]     19\n",
       "(74.143, 77.286]                39\n",
       "(77.286, 80.429]               233\n",
       "(80.429, 83.571]                46\n",
       "(83.571, 86.714]                29\n",
       "(86.714, 89.857]                18\n",
       "(89.857, 93.0]                   9\n",
       "Name: AHR, dtype: int64"
      ]
     },
     "execution_count": 74,
     "metadata": {},
     "output_type": "execute_result"
    }
   ],
   "source": [
    "pd.cut(df['AHR'], bins=7)\n",
    "df['AHR'].value_counts(bins=7, sort=False)"
   ]
  },
  {
   "cell_type": "code",
   "execution_count": 75,
   "metadata": {
    "colab": {
     "base_uri": "https://localhost:8080/",
     "height": 34
    },
    "colab_type": "code",
    "id": "2oUr6-ux2W7P",
    "outputId": "f34041e0-4e79-4e47-c59d-6759b286b4c8"
   },
   "outputs": [
    {
     "name": "stdout",
     "output_type": "stream",
     "text": [
      "MHR / Day : 159.47582697201017\n"
     ]
    }
   ],
   "source": [
    "mhr = df['MHR'].sum()/len(df['MHR'])\n",
    "print('MHR / Day :',mhr)"
   ]
  },
  {
   "cell_type": "code",
   "execution_count": 76,
   "metadata": {
    "colab": {
     "base_uri": "https://localhost:8080/",
     "height": 136
    },
    "colab_type": "code",
    "id": "GOlZ-fiM2cnJ",
    "outputId": "12f500ab-77d7-433d-e206-e06d4b1657a4"
   },
   "outputs": [
    {
     "data": {
      "text/plain": [
       "(131.938, 142.167]      4\n",
       "(142.167, 152.333]     39\n",
       "(152.333, 162.5]      240\n",
       "(162.5, 172.667]       77\n",
       "(172.667, 182.833]     32\n",
       "(182.833, 193.0]        1\n",
       "Name: MHR, dtype: int64"
      ]
     },
     "execution_count": 76,
     "metadata": {},
     "output_type": "execute_result"
    }
   ],
   "source": [
    "pd.cut(df['MHR'], bins=6)\n",
    "df['MHR'].value_counts(bins=6, sort=False)"
   ]
  },
  {
   "cell_type": "code",
   "execution_count": 77,
   "metadata": {
    "colab": {
     "base_uri": "https://localhost:8080/",
     "height": 34
    },
    "colab_type": "code",
    "id": "IzcHhkjJ3RC-",
    "outputId": "17775bf4-a9a9-47b2-cab3-d7db342d42d6"
   },
   "outputs": [
    {
     "name": "stdout",
     "output_type": "stream",
     "text": [
      "Weight / Day : 154.04783715012724\n"
     ]
    }
   ],
   "source": [
    "weight = df['Weight'].sum()/len(df['Weight'])\n",
    "print('Weight / Day :',weight)"
   ]
  },
  {
   "cell_type": "code",
   "execution_count": 78,
   "metadata": {
    "colab": {},
    "colab_type": "code",
    "id": "iM0bYeTo_9TG"
   },
   "outputs": [],
   "source": [
    "#df['Weight']"
   ]
  },
  {
   "cell_type": "markdown",
   "metadata": {
    "colab_type": "text",
    "id": "NnSoCb9B5HBb"
   },
   "source": [
    "###Goal for weight is to have the range between the bottom of the bottom bin and the top of the top bin to be as close as possible to each other and to be shrinking over time."
   ]
  },
  {
   "cell_type": "code",
   "execution_count": 79,
   "metadata": {
    "colab": {
     "base_uri": "https://localhost:8080/",
     "height": 68
    },
    "colab_type": "code",
    "id": "xT75ffnf3qXc",
    "outputId": "c89049b2-6e0b-4aa6-f896-6fbbeff8a5e3"
   },
   "outputs": [
    {
     "data": {
      "text/plain": [
       "(148.78799999999998, 154.2]    176\n",
       "(154.2, 159.6]                 217\n",
       "Name: Weight, dtype: int64"
      ]
     },
     "execution_count": 79,
     "metadata": {},
     "output_type": "execute_result"
    }
   ],
   "source": [
    "pd.cut(df['Weight'], bins=2)\n",
    "df['Weight'].value_counts(bins=2, sort=False)"
   ]
  },
  {
   "cell_type": "markdown",
   "metadata": {
    "colab_type": "text",
    "id": "vSkis4Jv6nNc"
   },
   "source": [
    "###Goal for fat is shrink the average to below 13%. After that a range will be formulated"
   ]
  },
  {
   "cell_type": "code",
   "execution_count": 80,
   "metadata": {
    "colab": {
     "base_uri": "https://localhost:8080/",
     "height": 34
    },
    "colab_type": "code",
    "id": "z5ry3YHn4Kr2",
    "outputId": "e1886bda-cbb8-4217-b6b6-f5211c7034d1"
   },
   "outputs": [
    {
     "name": "stdout",
     "output_type": "stream",
     "text": [
      "Fat / Day : 13.804198473282446\n"
     ]
    }
   ],
   "source": [
    "weight = df['Fat'].sum()/len(df['Fat'])\n",
    "print('Fat / Day :',weight)"
   ]
  },
  {
   "cell_type": "markdown",
   "metadata": {
    "colab_type": "text",
    "id": "0J0Qa4oX7DtC"
   },
   "source": [
    "###Range on fat should have the top bin constantly shrinking, or at least holding steady."
   ]
  },
  {
   "cell_type": "code",
   "execution_count": 81,
   "metadata": {
    "colab": {
     "base_uri": "https://localhost:8080/",
     "height": 119
    },
    "colab_type": "code",
    "id": "WDPccMN_3fNy",
    "outputId": "dd983c3e-7c50-4326-b80c-7440b37ef8bd"
   },
   "outputs": [
    {
     "data": {
      "text/plain": [
       "(12.597000000000001, 13.08]     67\n",
       "(13.08, 13.56]                  71\n",
       "(13.56, 14.04]                  61\n",
       "(14.04, 14.52]                 157\n",
       "(14.52, 15.0]                   37\n",
       "Name: Fat, dtype: int64"
      ]
     },
     "execution_count": 81,
     "metadata": {},
     "output_type": "execute_result"
    }
   ],
   "source": [
    "pd.cut(df['Fat'], bins=5)\n",
    "df['Fat'].value_counts(bins=5, sort=False)"
   ]
  },
  {
   "cell_type": "code",
   "execution_count": 82,
   "metadata": {
    "colab": {
     "base_uri": "https://localhost:8080/",
     "height": 34
    },
    "colab_type": "code",
    "id": "4NWRoFi_1GYw",
    "outputId": "06cad20b-549e-4922-d5f9-b5835dda8a36"
   },
   "outputs": [
    {
     "name": "stdout",
     "output_type": "stream",
     "text": [
      "Average Strain / Day : 11.237277353689567\n"
     ]
    }
   ],
   "source": [
    "df['Strain']\n",
    "strain = df['Strain'].sum()/len(df['Strain'])\n",
    "print('Average Strain / Day :',strain)"
   ]
  },
  {
   "cell_type": "code",
   "execution_count": 83,
   "metadata": {
    "colab": {
     "base_uri": "https://localhost:8080/",
     "height": 119
    },
    "colab_type": "code",
    "id": "BVh7YO3AvYZm",
    "outputId": "fcb5b048-884f-4049-9a68-a353716b10f2"
   },
   "outputs": [
    {
     "data": {
      "text/plain": [
       "(4.787, 7.2]     10\n",
       "(7.2, 9.6]       35\n",
       "(9.6, 12.0]     225\n",
       "(12.0, 14.4]     99\n",
       "(14.4, 16.8]     24\n",
       "Name: Strain, dtype: int64"
      ]
     },
     "execution_count": 83,
     "metadata": {},
     "output_type": "execute_result"
    }
   ],
   "source": [
    "pd.cut(df['Strain'], bins=5)\n",
    "df['Strain'].value_counts(bins=5, sort=False)"
   ]
  },
  {
   "cell_type": "code",
   "execution_count": 84,
   "metadata": {
    "colab": {
     "base_uri": "https://localhost:8080/",
     "height": 34
    },
    "colab_type": "code",
    "id": "xgrxCzdN1VRj",
    "outputId": "0eb19ee9-e503-4d15-f2da-fc2a3ee065bd"
   },
   "outputs": [
    {
     "name": "stdout",
     "output_type": "stream",
     "text": [
      "Average Recovery / Day : 64.52544529262086\n"
     ]
    }
   ],
   "source": [
    "df['Recovery']\n",
    "recovery = df['Recovery'].sum()/len(df['Recovery'])\n",
    "print('Average Recovery / Day :',recovery)"
   ]
  },
  {
   "cell_type": "code",
   "execution_count": 85,
   "metadata": {
    "colab": {
     "base_uri": "https://localhost:8080/",
     "height": 119
    },
    "colab_type": "code",
    "id": "NzJLg3qpviej",
    "outputId": "07ee2c6d-6204-4e74-90ed-6d4a018b8677"
   },
   "outputs": [
    {
     "data": {
      "text/plain": [
       "(8.912, 26.4]     19\n",
       "(26.4, 43.8]      88\n",
       "(43.8, 61.2]      62\n",
       "(61.2, 78.6]      36\n",
       "(78.6, 96.0]     188\n",
       "Name: Recovery, dtype: int64"
      ]
     },
     "execution_count": 85,
     "metadata": {},
     "output_type": "execute_result"
    }
   ],
   "source": [
    "pd.cut(df['Recovery'], bins=5)\n",
    "df['Recovery'].value_counts(bins=5, sort=False)"
   ]
  },
  {
   "cell_type": "code",
   "execution_count": null,
   "metadata": {},
   "outputs": [],
   "source": []
  }
 ],
 "metadata": {
  "colab": {
   "collapsed_sections": [],
   "name": "The Daily",
   "provenance": []
  },
  "kernelspec": {
   "display_name": "Python 3",
   "language": "python",
   "name": "python3"
  },
  "language_info": {
   "codemirror_mode": {
    "name": "ipython",
    "version": 3
   },
   "file_extension": ".py",
   "mimetype": "text/x-python",
   "name": "python",
   "nbconvert_exporter": "python",
   "pygments_lexer": "ipython3",
   "version": "3.7.4"
  }
 },
 "nbformat": 4,
 "nbformat_minor": 4
}
