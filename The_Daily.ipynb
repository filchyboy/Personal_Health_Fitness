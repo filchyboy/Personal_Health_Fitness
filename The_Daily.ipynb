{
 "cells": [
  {
   "cell_type": "code",
   "execution_count": 1230,
   "metadata": {
    "colab": {},
    "colab_type": "code",
    "id": "gtkrED5c3o6x"
   },
   "outputs": [],
   "source": [
    "import pandas as pd\n",
    "import numpy as np\n",
    "from sklearn.model_selection import train_test_split\n",
    "from sklearn.preprocessing import OneHotEncoder\n",
    "from sklearn.ensemble import RandomForestClassifier\n",
    "from sklearn.impute import SimpleImputer\n",
    "from sklearn.pipeline import make_pipeline"
   ]
  },
  {
   "cell_type": "code",
   "execution_count": 1231,
   "metadata": {},
   "outputs": [
    {
     "name": "stdout",
     "output_type": "stream",
     "text": [
      "Requirement already satisfied: category_encoders in /Users/filch/opt/anaconda3/lib/python3.7/site-packages (2.1.0)\n",
      "Requirement already satisfied: statsmodels>=0.6.1 in /Users/filch/opt/anaconda3/lib/python3.7/site-packages (from category_encoders) (0.10.1)\n",
      "Requirement already satisfied: patsy>=0.4.1 in /Users/filch/opt/anaconda3/lib/python3.7/site-packages (from category_encoders) (0.5.1)\n",
      "Requirement already satisfied: numpy>=1.11.3 in /Users/filch/opt/anaconda3/lib/python3.7/site-packages (from category_encoders) (1.17.2)\n",
      "Requirement already satisfied: scikit-learn>=0.20.0 in /Users/filch/opt/anaconda3/lib/python3.7/site-packages (from category_encoders) (0.21.3)\n",
      "Requirement already satisfied: scipy>=0.19.0 in /Users/filch/opt/anaconda3/lib/python3.7/site-packages (from category_encoders) (1.3.1)\n",
      "Requirement already satisfied: pandas>=0.21.1 in /Users/filch/opt/anaconda3/lib/python3.7/site-packages (from category_encoders) (0.25.1)\n",
      "Requirement already satisfied: six in /Users/filch/opt/anaconda3/lib/python3.7/site-packages (from patsy>=0.4.1->category_encoders) (1.12.0)\n",
      "Requirement already satisfied: joblib>=0.11 in /Users/filch/opt/anaconda3/lib/python3.7/site-packages (from scikit-learn>=0.20.0->category_encoders) (0.13.2)\n",
      "Requirement already satisfied: python-dateutil>=2.6.1 in /Users/filch/opt/anaconda3/lib/python3.7/site-packages (from pandas>=0.21.1->category_encoders) (2.8.0)\n",
      "Requirement already satisfied: pytz>=2017.2 in /Users/filch/opt/anaconda3/lib/python3.7/site-packages (from pandas>=0.21.1->category_encoders) (2019.3)\n"
     ]
    }
   ],
   "source": [
    "!pip install category_encoders\n",
    "import category_encoders as ce"
   ]
  },
  {
   "cell_type": "code",
   "execution_count": 1232,
   "metadata": {},
   "outputs": [],
   "source": [
    "pd.options.mode.chained_assignment = None"
   ]
  },
  {
   "cell_type": "code",
   "execution_count": 1233,
   "metadata": {
    "colab": {},
    "colab_type": "code",
    "id": "juah2vg130Hx"
   },
   "outputs": [],
   "source": [
    "df = pd.read_csv('https://docs.google.com/spreadsheets/d/e/2PACX-1vTMIUP6_JIoxWSAFCe1h6Hz12r-41t6qHv5cCXIBmYJUK2KS188pKkZnkr4jJRpIcC3mRZV36z21oNv/pub?gid=0&single=true&output=csv')"
   ]
  },
  {
   "cell_type": "code",
   "execution_count": 1234,
   "metadata": {},
   "outputs": [],
   "source": [
    "header_list = ['Date','Weight','Fat','Sleep Debt','REM','Deep Sleep','Snore',\n",
    "     'Meditate','Spanish','Push-ups','Pull-ups','Sit-ups','Coffee','Handstands',\n",
    "     'Acro','Swing','Strain','Calories','AHR','MHR','HRV','RHR','Recovery',\n",
    "     'Carbs','Journal','Spinal Mobility','Flexibility','Notes','DOW',\n",
    "     'Weight_AVR','Fat_AVR','Sleep Debt_AVR','REM_AVR','Deep Sleep_AVR',\n",
    "     'Strain_AVR','Calories_AVR','AHR_AVR','MHR_AVR','HRV_AVR','RHR_AVR',\n",
    "     'Recovery_AVR','Weight_PASS','Fat_PASS','Sleep Debt_PASS','REM_PASS',\n",
    "     'Deep Sleep_PASS','Strain_PASS','Calories_PASS','AHR_PASS','MHR_PASS',\n",
    "     'HRV_PASS','RHR_PASS','Recovery_PASS']"
   ]
  },
  {
   "cell_type": "code",
   "execution_count": 1235,
   "metadata": {},
   "outputs": [],
   "source": [
    "df = df.reindex(columns = header_list)"
   ]
  },
  {
   "cell_type": "code",
   "execution_count": 1236,
   "metadata": {
    "colab": {},
    "colab_type": "code",
    "id": "aVpNpl__5vni"
   },
   "outputs": [],
   "source": [
    "df['Date'] = pd.to_datetime(df['Date'])\n",
    "\n",
    "for i in range(len(df)):\n",
    "    df['DOW'][i] = df['Date'][i].day_name()"
   ]
  },
  {
   "cell_type": "code",
   "execution_count": 1237,
   "metadata": {},
   "outputs": [],
   "source": [
    "features = ['Weight','Fat','Sleep Debt','REM','Deep Sleep','Strain','Calories','AHR','MHR','HRV','RHR','Recovery']\n",
    "special_features = ['Sleep Debt','AHR','RHR']\n",
    "drops = ['Acro','Meditate','Snore','Coffee','Handstands','Spanish','Push-ups',\n",
    "         'Pull-ups','Sit-ups','Swing','Carbs','Journal','Spinal Mobility',\n",
    "         'Flexibility','Notes']\n",
    "week_day = ['Sunday','Monday','Tuesday','Wednesday','Thursday','Friday','Saturday']"
   ]
  },
  {
   "cell_type": "code",
   "execution_count": 1238,
   "metadata": {},
   "outputs": [],
   "source": [
    "for each in features:\n",
    "    df[each] = df[each].interpolate(method='linear')"
   ]
  },
  {
   "cell_type": "code",
   "execution_count": 1239,
   "metadata": {},
   "outputs": [],
   "source": [
    "df = df.drop(labels=drops,axis=1)"
   ]
  },
  {
   "cell_type": "code",
   "execution_count": 1240,
   "metadata": {},
   "outputs": [
    {
     "data": {
      "text/plain": [
       "0    151.4\n",
       "dtype: float64"
      ]
     },
     "execution_count": 1240,
     "metadata": {},
     "output_type": "execute_result"
    }
   ],
   "source": [
    "df['Weight'].mode() #most common weight"
   ]
  },
  {
   "cell_type": "code",
   "execution_count": 1241,
   "metadata": {},
   "outputs": [],
   "source": [
    "for i in range(0,df.shape[0]-1):\n",
    "    for j in range(len(features)):\n",
    "        string = features[j] + '_AVR'\n",
    "        df[string] = df.iloc[:,j+1].expanding(min_periods=7).mean()\n",
    "        #print(i,\":\",features[j],\":\",df[string][i])"
   ]
  },
  {
   "cell_type": "markdown",
   "metadata": {},
   "source": [
    "features = ['Weight','Fat','Sleep Debt','REM','Deep Sleep','Strain','Calories','AHR','MHR','HRV','RHR','Recovery']\n",
    "\n",
    "special_features = ['Sleep Debt','AHR','RHR']"
   ]
  },
  {
   "cell_type": "code",
   "execution_count": 1242,
   "metadata": {},
   "outputs": [],
   "source": [
    "for i in range(0,df.shape[0]-1):\n",
    "    for j in range(len(features)):\n",
    "            score = features[j] + '_PASS'\n",
    "            avr = features[j] + '_AVR'\n",
    "\n",
    "            if features[j] not in [special_features]:\n",
    "                \n",
    "                if df[features[j]][i] >= df[avr][i]:\n",
    "                    df[score][i] = \"Y\"\n",
    "                    \n",
    "                else:\n",
    "                    df[score][i] = \"N\"\n",
    "                    \n",
    "            elif features[j] in [special_features]:\n",
    "                    \n",
    "                if df[features[j]][i] <= df[avr][i]:\n",
    "                    df[score][i] = \"Y\"\n",
    "                    \n",
    "                else:\n",
    "                    df[score][i] = \"N\"\n",
    "                   "
   ]
  },
  {
   "cell_type": "code",
   "execution_count": 1243,
   "metadata": {},
   "outputs": [
    {
     "data": {
      "text/html": [
       "<div>\n",
       "<style scoped>\n",
       "    .dataframe tbody tr th:only-of-type {\n",
       "        vertical-align: middle;\n",
       "    }\n",
       "\n",
       "    .dataframe tbody tr th {\n",
       "        vertical-align: top;\n",
       "    }\n",
       "\n",
       "    .dataframe thead th {\n",
       "        text-align: right;\n",
       "    }\n",
       "</style>\n",
       "<table border=\"1\" class=\"dataframe\">\n",
       "  <thead>\n",
       "    <tr style=\"text-align: right;\">\n",
       "      <th></th>\n",
       "      <th>Weight</th>\n",
       "      <th>Fat</th>\n",
       "      <th>Sleep Debt</th>\n",
       "      <th>REM</th>\n",
       "      <th>Deep Sleep</th>\n",
       "      <th>Strain</th>\n",
       "      <th>Calories</th>\n",
       "      <th>AHR</th>\n",
       "      <th>MHR</th>\n",
       "      <th>HRV</th>\n",
       "      <th>...</th>\n",
       "      <th>Sleep Debt_AVR</th>\n",
       "      <th>REM_AVR</th>\n",
       "      <th>Deep Sleep_AVR</th>\n",
       "      <th>Strain_AVR</th>\n",
       "      <th>Calories_AVR</th>\n",
       "      <th>AHR_AVR</th>\n",
       "      <th>MHR_AVR</th>\n",
       "      <th>HRV_AVR</th>\n",
       "      <th>RHR_AVR</th>\n",
       "      <th>Recovery_AVR</th>\n",
       "    </tr>\n",
       "  </thead>\n",
       "  <tbody>\n",
       "    <tr>\n",
       "      <td>count</td>\n",
       "      <td>587.000000</td>\n",
       "      <td>587.000000</td>\n",
       "      <td>587.000000</td>\n",
       "      <td>587.000000</td>\n",
       "      <td>587.000000</td>\n",
       "      <td>587.000000</td>\n",
       "      <td>587.000000</td>\n",
       "      <td>587.000000</td>\n",
       "      <td>587.000000</td>\n",
       "      <td>587.000000</td>\n",
       "      <td>...</td>\n",
       "      <td>581.000000</td>\n",
       "      <td>581.000000</td>\n",
       "      <td>581.000000</td>\n",
       "      <td>581.000000</td>\n",
       "      <td>581.000000</td>\n",
       "      <td>581.000000</td>\n",
       "      <td>581.000000</td>\n",
       "      <td>581.000000</td>\n",
       "      <td>581.000000</td>\n",
       "      <td>581.000000</td>\n",
       "    </tr>\n",
       "    <tr>\n",
       "      <td>mean</td>\n",
       "      <td>152.286882</td>\n",
       "      <td>13.389949</td>\n",
       "      <td>85.996593</td>\n",
       "      <td>75.486371</td>\n",
       "      <td>66.224020</td>\n",
       "      <td>11.609284</td>\n",
       "      <td>2895.152470</td>\n",
       "      <td>79.293867</td>\n",
       "      <td>160.012777</td>\n",
       "      <td>33.425894</td>\n",
       "      <td>...</td>\n",
       "      <td>94.838157</td>\n",
       "      <td>53.839581</td>\n",
       "      <td>53.223175</td>\n",
       "      <td>12.276892</td>\n",
       "      <td>3388.582080</td>\n",
       "      <td>79.006962</td>\n",
       "      <td>159.461727</td>\n",
       "      <td>31.555181</td>\n",
       "      <td>65.002221</td>\n",
       "      <td>48.320740</td>\n",
       "    </tr>\n",
       "    <tr>\n",
       "      <td>std</td>\n",
       "      <td>3.429221</td>\n",
       "      <td>0.790793</td>\n",
       "      <td>27.206873</td>\n",
       "      <td>34.653679</td>\n",
       "      <td>31.572887</td>\n",
       "      <td>2.246374</td>\n",
       "      <td>908.638589</td>\n",
       "      <td>4.403359</td>\n",
       "      <td>6.618130</td>\n",
       "      <td>8.518731</td>\n",
       "      <td>...</td>\n",
       "      <td>9.139078</td>\n",
       "      <td>16.338589</td>\n",
       "      <td>9.088731</td>\n",
       "      <td>0.528289</td>\n",
       "      <td>283.775390</td>\n",
       "      <td>0.811472</td>\n",
       "      <td>0.883935</td>\n",
       "      <td>2.050960</td>\n",
       "      <td>0.485542</td>\n",
       "      <td>2.950243</td>\n",
       "    </tr>\n",
       "    <tr>\n",
       "      <td>min</td>\n",
       "      <td>146.800000</td>\n",
       "      <td>12.200000</td>\n",
       "      <td>0.000000</td>\n",
       "      <td>2.000000</td>\n",
       "      <td>2.000000</td>\n",
       "      <td>4.600000</td>\n",
       "      <td>449.000000</td>\n",
       "      <td>71.000000</td>\n",
       "      <td>132.000000</td>\n",
       "      <td>10.000000</td>\n",
       "      <td>...</td>\n",
       "      <td>75.928571</td>\n",
       "      <td>21.428571</td>\n",
       "      <td>43.514411</td>\n",
       "      <td>11.609284</td>\n",
       "      <td>2895.152470</td>\n",
       "      <td>77.808383</td>\n",
       "      <td>157.975716</td>\n",
       "      <td>21.700000</td>\n",
       "      <td>64.177388</td>\n",
       "      <td>45.386157</td>\n",
       "    </tr>\n",
       "    <tr>\n",
       "      <td>25%</td>\n",
       "      <td>148.932692</td>\n",
       "      <td>12.562019</td>\n",
       "      <td>71.000000</td>\n",
       "      <td>49.061644</td>\n",
       "      <td>42.150685</td>\n",
       "      <td>10.000000</td>\n",
       "      <td>2153.500000</td>\n",
       "      <td>76.000000</td>\n",
       "      <td>156.456020</td>\n",
       "      <td>29.000000</td>\n",
       "      <td>...</td>\n",
       "      <td>88.288727</td>\n",
       "      <td>39.107877</td>\n",
       "      <td>45.577874</td>\n",
       "      <td>11.741953</td>\n",
       "      <td>3132.744898</td>\n",
       "      <td>78.418831</td>\n",
       "      <td>158.715328</td>\n",
       "      <td>31.391346</td>\n",
       "      <td>64.709256</td>\n",
       "      <td>46.394089</td>\n",
       "    </tr>\n",
       "    <tr>\n",
       "      <td>50%</td>\n",
       "      <td>151.400000</td>\n",
       "      <td>13.200000</td>\n",
       "      <td>85.000000</td>\n",
       "      <td>76.000000</td>\n",
       "      <td>71.000000</td>\n",
       "      <td>11.900000</td>\n",
       "      <td>2765.000000</td>\n",
       "      <td>79.000000</td>\n",
       "      <td>159.726027</td>\n",
       "      <td>33.298246</td>\n",
       "      <td>...</td>\n",
       "      <td>90.011076</td>\n",
       "      <td>55.846801</td>\n",
       "      <td>50.569883</td>\n",
       "      <td>12.279836</td>\n",
       "      <td>3441.476780</td>\n",
       "      <td>78.872727</td>\n",
       "      <td>159.543364</td>\n",
       "      <td>31.951847</td>\n",
       "      <td>64.929245</td>\n",
       "      <td>47.132634</td>\n",
       "    </tr>\n",
       "    <tr>\n",
       "      <td>75%</td>\n",
       "      <td>155.821795</td>\n",
       "      <td>14.182692</td>\n",
       "      <td>100.857143</td>\n",
       "      <td>98.811111</td>\n",
       "      <td>85.000000</td>\n",
       "      <td>13.265789</td>\n",
       "      <td>3660.719298</td>\n",
       "      <td>82.000000</td>\n",
       "      <td>162.000000</td>\n",
       "      <td>37.038406</td>\n",
       "      <td>...</td>\n",
       "      <td>100.174583</td>\n",
       "      <td>68.528281</td>\n",
       "      <td>59.103125</td>\n",
       "      <td>12.501991</td>\n",
       "      <td>3530.685978</td>\n",
       "      <td>79.219406</td>\n",
       "      <td>160.146098</td>\n",
       "      <td>32.871041</td>\n",
       "      <td>65.195544</td>\n",
       "      <td>48.638408</td>\n",
       "    </tr>\n",
       "    <tr>\n",
       "      <td>max</td>\n",
       "      <td>159.600000</td>\n",
       "      <td>15.000000</td>\n",
       "      <td>192.000000</td>\n",
       "      <td>200.000000</td>\n",
       "      <td>165.000000</td>\n",
       "      <td>16.800000</td>\n",
       "      <td>5660.000000</td>\n",
       "      <td>93.000000</td>\n",
       "      <td>193.000000</td>\n",
       "      <td>81.000000</td>\n",
       "      <td>...</td>\n",
       "      <td>114.622348</td>\n",
       "      <td>75.486371</td>\n",
       "      <td>84.750000</td>\n",
       "      <td>13.306667</td>\n",
       "      <td>3907.733333</td>\n",
       "      <td>81.608696</td>\n",
       "      <td>162.266667</td>\n",
       "      <td>33.430034</td>\n",
       "      <td>68.857143</td>\n",
       "      <td>56.166667</td>\n",
       "    </tr>\n",
       "  </tbody>\n",
       "</table>\n",
       "<p>8 rows × 24 columns</p>\n",
       "</div>"
      ],
      "text/plain": [
       "           Weight         Fat  Sleep Debt         REM  Deep Sleep      Strain  \\\n",
       "count  587.000000  587.000000  587.000000  587.000000  587.000000  587.000000   \n",
       "mean   152.286882   13.389949   85.996593   75.486371   66.224020   11.609284   \n",
       "std      3.429221    0.790793   27.206873   34.653679   31.572887    2.246374   \n",
       "min    146.800000   12.200000    0.000000    2.000000    2.000000    4.600000   \n",
       "25%    148.932692   12.562019   71.000000   49.061644   42.150685   10.000000   \n",
       "50%    151.400000   13.200000   85.000000   76.000000   71.000000   11.900000   \n",
       "75%    155.821795   14.182692  100.857143   98.811111   85.000000   13.265789   \n",
       "max    159.600000   15.000000  192.000000  200.000000  165.000000   16.800000   \n",
       "\n",
       "          Calories         AHR         MHR         HRV  ...  Sleep Debt_AVR  \\\n",
       "count   587.000000  587.000000  587.000000  587.000000  ...      581.000000   \n",
       "mean   2895.152470   79.293867  160.012777   33.425894  ...       94.838157   \n",
       "std     908.638589    4.403359    6.618130    8.518731  ...        9.139078   \n",
       "min     449.000000   71.000000  132.000000   10.000000  ...       75.928571   \n",
       "25%    2153.500000   76.000000  156.456020   29.000000  ...       88.288727   \n",
       "50%    2765.000000   79.000000  159.726027   33.298246  ...       90.011076   \n",
       "75%    3660.719298   82.000000  162.000000   37.038406  ...      100.174583   \n",
       "max    5660.000000   93.000000  193.000000   81.000000  ...      114.622348   \n",
       "\n",
       "          REM_AVR  Deep Sleep_AVR  Strain_AVR  Calories_AVR     AHR_AVR  \\\n",
       "count  581.000000      581.000000  581.000000    581.000000  581.000000   \n",
       "mean    53.839581       53.223175   12.276892   3388.582080   79.006962   \n",
       "std     16.338589        9.088731    0.528289    283.775390    0.811472   \n",
       "min     21.428571       43.514411   11.609284   2895.152470   77.808383   \n",
       "25%     39.107877       45.577874   11.741953   3132.744898   78.418831   \n",
       "50%     55.846801       50.569883   12.279836   3441.476780   78.872727   \n",
       "75%     68.528281       59.103125   12.501991   3530.685978   79.219406   \n",
       "max     75.486371       84.750000   13.306667   3907.733333   81.608696   \n",
       "\n",
       "          MHR_AVR     HRV_AVR     RHR_AVR  Recovery_AVR  \n",
       "count  581.000000  581.000000  581.000000    581.000000  \n",
       "mean   159.461727   31.555181   65.002221     48.320740  \n",
       "std      0.883935    2.050960    0.485542      2.950243  \n",
       "min    157.975716   21.700000   64.177388     45.386157  \n",
       "25%    158.715328   31.391346   64.709256     46.394089  \n",
       "50%    159.543364   31.951847   64.929245     47.132634  \n",
       "75%    160.146098   32.871041   65.195544     48.638408  \n",
       "max    162.266667   33.430034   68.857143     56.166667  \n",
       "\n",
       "[8 rows x 24 columns]"
      ]
     },
     "execution_count": 1243,
     "metadata": {},
     "output_type": "execute_result"
    }
   ],
   "source": [
    "df.describe()"
   ]
  },
  {
   "cell_type": "code",
   "execution_count": 1244,
   "metadata": {},
   "outputs": [],
   "source": [
    "test = df[df['Date'] >= '12/03/2019']\n",
    "train = df[df['Date'] <= '08/06/2019']\n",
    "val = df[(df['Date'] <= '12/02/2019') & (df['Date'] >= '08/07/2019')]"
   ]
  },
  {
   "cell_type": "code",
   "execution_count": 1245,
   "metadata": {},
   "outputs": [],
   "source": [
    "target = 'Sleep Debt_PASS'\n",
    "# Get a dataframe with all train columns except the target\n",
    "train_features = train.drop(columns=[target])\n",
    "\n",
    "# Get a list of the numeric features\n",
    "numeric_features = train_features.select_dtypes(include='number').columns.tolist()\n",
    "\n",
    "# Get a series with the cardinality of the nonnumeric features\n",
    "cardinality = train_features.select_dtypes(exclude='number').nunique()\n",
    "\n",
    "# Get a list of all categorical features with cardinality <= 50\n",
    "categorical_features = cardinality[cardinality <= 25].index.tolist()\n",
    "\n",
    "# Combine the lists \n",
    "features = numeric_features + categorical_features"
   ]
  },
  {
   "cell_type": "code",
   "execution_count": 1246,
   "metadata": {},
   "outputs": [],
   "source": [
    "X_train = train[features]\n",
    "y_train = train[target]\n",
    "X_val = val[features]\n",
    "y_val = val[target]\n",
    "X_test = test[features]"
   ]
  },
  {
   "cell_type": "code",
   "execution_count": 1247,
   "metadata": {},
   "outputs": [
    {
     "data": {
      "text/plain": [
       "N    0.64878\n",
       "Y    0.35122\n",
       "Name: Sleep Debt_PASS, dtype: float64"
      ]
     },
     "execution_count": 1247,
     "metadata": {},
     "output_type": "execute_result"
    }
   ],
   "source": [
    "y_train.value_counts(normalize=True)"
   ]
  },
  {
   "cell_type": "code",
   "execution_count": 1248,
   "metadata": {},
   "outputs": [],
   "source": [
    "pipeline = make_pipeline(\n",
    "    ce.OneHotEncoder(use_cat_names=True), \n",
    "    SimpleImputer(strategy='mean'), \n",
    "    RandomForestClassifier(max_features='sqrt',n_estimators=100,n_jobs=-1, random_state=42)\n",
    ")"
   ]
  },
  {
   "cell_type": "code",
   "execution_count": 1249,
   "metadata": {},
   "outputs": [
    {
     "name": "stdout",
     "output_type": "stream",
     "text": [
      "Train Accuracy 1.0\n",
      "Validation Accuracy 0.5677966101694916\n"
     ]
    }
   ],
   "source": [
    "pipeline.fit(X_train, y_train)\n",
    "print('Train Accuracy', pipeline.score(X_train, y_train))\n",
    "print('Validation Accuracy', pipeline.score(X_val, y_val))"
   ]
  },
  {
   "cell_type": "code",
   "execution_count": 1250,
   "metadata": {},
   "outputs": [],
   "source": [
    "y_pred = pipeline.predict(X_test)"
   ]
  },
  {
   "cell_type": "code",
   "execution_count": 1251,
   "metadata": {},
   "outputs": [
    {
     "data": {
      "text/html": [
       "<div>\n",
       "<style scoped>\n",
       "    .dataframe tbody tr th:only-of-type {\n",
       "        vertical-align: middle;\n",
       "    }\n",
       "\n",
       "    .dataframe tbody tr th {\n",
       "        vertical-align: top;\n",
       "    }\n",
       "\n",
       "    .dataframe thead th {\n",
       "        text-align: right;\n",
       "    }\n",
       "</style>\n",
       "<table border=\"1\" class=\"dataframe\">\n",
       "  <thead>\n",
       "    <tr style=\"text-align: right;\">\n",
       "      <th></th>\n",
       "      <th>Weight</th>\n",
       "      <th>Fat</th>\n",
       "      <th>Sleep Debt</th>\n",
       "      <th>REM</th>\n",
       "      <th>Deep Sleep</th>\n",
       "      <th>Strain</th>\n",
       "      <th>Calories</th>\n",
       "      <th>AHR</th>\n",
       "      <th>MHR</th>\n",
       "      <th>HRV</th>\n",
       "      <th>...</th>\n",
       "      <th>Fat_PASS</th>\n",
       "      <th>REM_PASS</th>\n",
       "      <th>Deep Sleep_PASS</th>\n",
       "      <th>Strain_PASS</th>\n",
       "      <th>Calories_PASS</th>\n",
       "      <th>AHR_PASS</th>\n",
       "      <th>MHR_PASS</th>\n",
       "      <th>HRV_PASS</th>\n",
       "      <th>RHR_PASS</th>\n",
       "      <th>Recovery_PASS</th>\n",
       "    </tr>\n",
       "  </thead>\n",
       "  <tbody>\n",
       "    <tr>\n",
       "      <td>528</td>\n",
       "      <td>157.2</td>\n",
       "      <td>14.4</td>\n",
       "      <td>89.0</td>\n",
       "      <td>94.0</td>\n",
       "      <td>102.0</td>\n",
       "      <td>9.5</td>\n",
       "      <td>1775.0</td>\n",
       "      <td>76.0</td>\n",
       "      <td>160.0</td>\n",
       "      <td>38.0</td>\n",
       "      <td>...</td>\n",
       "      <td>Y</td>\n",
       "      <td>Y</td>\n",
       "      <td>Y</td>\n",
       "      <td>N</td>\n",
       "      <td>N</td>\n",
       "      <td>N</td>\n",
       "      <td>N</td>\n",
       "      <td>Y</td>\n",
       "      <td>N</td>\n",
       "      <td>Y</td>\n",
       "    </tr>\n",
       "    <tr>\n",
       "      <td>529</td>\n",
       "      <td>157.2</td>\n",
       "      <td>14.4</td>\n",
       "      <td>43.0</td>\n",
       "      <td>123.0</td>\n",
       "      <td>137.0</td>\n",
       "      <td>9.5</td>\n",
       "      <td>2146.0</td>\n",
       "      <td>80.0</td>\n",
       "      <td>160.0</td>\n",
       "      <td>36.0</td>\n",
       "      <td>...</td>\n",
       "      <td>Y</td>\n",
       "      <td>Y</td>\n",
       "      <td>Y</td>\n",
       "      <td>N</td>\n",
       "      <td>N</td>\n",
       "      <td>Y</td>\n",
       "      <td>N</td>\n",
       "      <td>Y</td>\n",
       "      <td>N</td>\n",
       "      <td>Y</td>\n",
       "    </tr>\n",
       "    <tr>\n",
       "      <td>530</td>\n",
       "      <td>155.5</td>\n",
       "      <td>14.1</td>\n",
       "      <td>96.0</td>\n",
       "      <td>95.0</td>\n",
       "      <td>70.0</td>\n",
       "      <td>11.4</td>\n",
       "      <td>1851.0</td>\n",
       "      <td>82.0</td>\n",
       "      <td>156.0</td>\n",
       "      <td>30.0</td>\n",
       "      <td>...</td>\n",
       "      <td>Y</td>\n",
       "      <td>Y</td>\n",
       "      <td>Y</td>\n",
       "      <td>N</td>\n",
       "      <td>N</td>\n",
       "      <td>Y</td>\n",
       "      <td>N</td>\n",
       "      <td>N</td>\n",
       "      <td>N</td>\n",
       "      <td>Y</td>\n",
       "    </tr>\n",
       "    <tr>\n",
       "      <td>531</td>\n",
       "      <td>156.8</td>\n",
       "      <td>14.4</td>\n",
       "      <td>98.0</td>\n",
       "      <td>97.0</td>\n",
       "      <td>88.0</td>\n",
       "      <td>6.1</td>\n",
       "      <td>1713.0</td>\n",
       "      <td>77.0</td>\n",
       "      <td>153.0</td>\n",
       "      <td>46.0</td>\n",
       "      <td>...</td>\n",
       "      <td>Y</td>\n",
       "      <td>Y</td>\n",
       "      <td>Y</td>\n",
       "      <td>N</td>\n",
       "      <td>N</td>\n",
       "      <td>N</td>\n",
       "      <td>N</td>\n",
       "      <td>Y</td>\n",
       "      <td>Y</td>\n",
       "      <td>Y</td>\n",
       "    </tr>\n",
       "    <tr>\n",
       "      <td>532</td>\n",
       "      <td>156.0</td>\n",
       "      <td>14.3</td>\n",
       "      <td>89.0</td>\n",
       "      <td>101.0</td>\n",
       "      <td>81.0</td>\n",
       "      <td>8.2</td>\n",
       "      <td>1834.0</td>\n",
       "      <td>79.0</td>\n",
       "      <td>151.0</td>\n",
       "      <td>28.0</td>\n",
       "      <td>...</td>\n",
       "      <td>Y</td>\n",
       "      <td>Y</td>\n",
       "      <td>Y</td>\n",
       "      <td>N</td>\n",
       "      <td>N</td>\n",
       "      <td>N</td>\n",
       "      <td>N</td>\n",
       "      <td>N</td>\n",
       "      <td>N</td>\n",
       "      <td>Y</td>\n",
       "    </tr>\n",
       "  </tbody>\n",
       "</table>\n",
       "<p>5 rows × 36 columns</p>\n",
       "</div>"
      ],
      "text/plain": [
       "     Weight   Fat  Sleep Debt    REM  Deep Sleep  Strain  Calories   AHR  \\\n",
       "528   157.2  14.4        89.0   94.0       102.0     9.5    1775.0  76.0   \n",
       "529   157.2  14.4        43.0  123.0       137.0     9.5    2146.0  80.0   \n",
       "530   155.5  14.1        96.0   95.0        70.0    11.4    1851.0  82.0   \n",
       "531   156.8  14.4        98.0   97.0        88.0     6.1    1713.0  77.0   \n",
       "532   156.0  14.3        89.0  101.0        81.0     8.2    1834.0  79.0   \n",
       "\n",
       "       MHR   HRV  ...  Fat_PASS  REM_PASS  Deep Sleep_PASS  Strain_PASS  \\\n",
       "528  160.0  38.0  ...         Y         Y                Y            N   \n",
       "529  160.0  36.0  ...         Y         Y                Y            N   \n",
       "530  156.0  30.0  ...         Y         Y                Y            N   \n",
       "531  153.0  46.0  ...         Y         Y                Y            N   \n",
       "532  151.0  28.0  ...         Y         Y                Y            N   \n",
       "\n",
       "     Calories_PASS  AHR_PASS  MHR_PASS  HRV_PASS  RHR_PASS  Recovery_PASS  \n",
       "528              N         N         N         Y         N              Y  \n",
       "529              N         Y         N         Y         N              Y  \n",
       "530              N         Y         N         N         N              Y  \n",
       "531              N         N         N         Y         Y              Y  \n",
       "532              N         N         N         N         N              Y  \n",
       "\n",
       "[5 rows x 36 columns]"
      ]
     },
     "execution_count": 1251,
     "metadata": {},
     "output_type": "execute_result"
    }
   ],
   "source": [
    "X_test.head()"
   ]
  },
  {
   "cell_type": "code",
   "execution_count": 1252,
   "metadata": {},
   "outputs": [
    {
     "data": {
      "text/plain": [
       "array(['Y', 'Y', 'Y', 'Y', 'Y', 'Y', 'Y', 'Y', 'Y', 'Y', 'Y', 'Y', 'Y',\n",
       "       'Y', 'Y', 'Y', 'Y', 'Y', 'Y', 'Y', 'Y', 'Y', 'Y', 'Y', 'Y', 'Y',\n",
       "       'Y', 'Y', 'Y', 'Y', 'Y', 'Y', 'Y', 'Y', 'Y', 'Y', 'Y', 'Y', 'Y',\n",
       "       'Y', 'Y', 'Y', 'Y', 'Y', 'Y', 'Y', 'Y', 'Y', 'Y', 'Y', 'Y', 'Y',\n",
       "       'Y', 'Y', 'Y', 'Y', 'Y', 'Y', 'Y'], dtype=object)"
      ]
     },
     "execution_count": 1252,
     "metadata": {},
     "output_type": "execute_result"
    }
   ],
   "source": [
    "y_pred"
   ]
  },
  {
   "cell_type": "code",
   "execution_count": 1253,
   "metadata": {},
   "outputs": [
    {
     "name": "stdout",
     "output_type": "stream",
     "text": [
      "Test Accuracy 1.0\n"
     ]
    }
   ],
   "source": [
    "print('Test Accuracy', pipeline.score(X_test, y_pred))"
   ]
  },
  {
   "cell_type": "code",
   "execution_count": 1254,
   "metadata": {},
   "outputs": [
    {
     "data": {
      "text/plain": [
       "(40.0, 'N', 40.0, 40.0, 'Y', 87.54359925788498)"
      ]
     },
     "execution_count": 1254,
     "metadata": {},
     "output_type": "execute_result"
    }
   ],
   "source": [
    "df['Sleep Debt'][538], df['Sleep Debt_PASS'][538], test['Sleep Debt'][538], X_test['Sleep Debt'][538], np.array(y_pred)[10],X_test['Sleep Debt_AVR'][538]"
   ]
  },
  {
   "cell_type": "code",
   "execution_count": 1255,
   "metadata": {},
   "outputs": [
    {
     "data": {
      "text/plain": [
       "(65.0, 'Y', 65.0, 65.0, 'Y', 64.6799628942486)"
      ]
     },
     "execution_count": 1255,
     "metadata": {},
     "output_type": "execute_result"
    }
   ],
   "source": [
    "df['RHR'][538], df['RHR_PASS'][538], test['RHR'][538], X_test['RHR'][538], np.array(y_pred)[10],X_test['RHR_AVR'][538]"
   ]
  },
  {
   "cell_type": "code",
   "execution_count": 1256,
   "metadata": {},
   "outputs": [
    {
     "data": {
      "text/plain": [
       "(78.0, 'N', 78.0, 78.0, 'Y', 79.06771799628943)"
      ]
     },
     "execution_count": 1256,
     "metadata": {},
     "output_type": "execute_result"
    }
   ],
   "source": [
    "df['AHR'][538], df['AHR_PASS'][538], test['AHR'][538], X_test['AHR'][538], np.array(y_pred)[10],X_test['AHR_AVR'][538]"
   ]
  },
  {
   "cell_type": "code",
   "execution_count": null,
   "metadata": {},
   "outputs": [],
   "source": []
  }
 ],
 "metadata": {
  "colab": {
   "collapsed_sections": [],
   "name": "The Daily",
   "provenance": []
  },
  "kernelspec": {
   "display_name": "Python 3",
   "language": "python",
   "name": "python3"
  },
  "language_info": {
   "codemirror_mode": {
    "name": "ipython",
    "version": 3
   },
   "file_extension": ".py",
   "mimetype": "text/x-python",
   "name": "python",
   "nbconvert_exporter": "python",
   "pygments_lexer": "ipython3",
   "version": "3.7.4"
  }
 },
 "nbformat": 4,
 "nbformat_minor": 4
}
