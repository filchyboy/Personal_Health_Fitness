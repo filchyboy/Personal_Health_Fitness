{
 "cells": [
  {
   "cell_type": "code",
   "execution_count": 1201,
   "metadata": {
    "colab": {},
    "colab_type": "code",
    "id": "gtkrED5c3o6x"
   },
   "outputs": [],
   "source": [
    "import pandas as pd\n",
    "import numpy as np\n",
    "from sklearn.model_selection import train_test_split\n",
    "from sklearn.preprocessing import OneHotEncoder\n",
    "from sklearn.ensemble import RandomForestClassifier\n",
    "from sklearn.impute import SimpleImputer\n",
    "from sklearn.pipeline import make_pipeline"
   ]
  },
  {
   "cell_type": "code",
   "execution_count": 1202,
   "metadata": {},
   "outputs": [
    {
     "name": "stdout",
     "output_type": "stream",
     "text": [
      "Requirement already satisfied: category_encoders in /Users/filch/opt/anaconda3/lib/python3.7/site-packages (2.1.0)\n",
      "Requirement already satisfied: scipy>=0.19.0 in /Users/filch/opt/anaconda3/lib/python3.7/site-packages (from category_encoders) (1.3.1)\n",
      "Requirement already satisfied: numpy>=1.11.3 in /Users/filch/opt/anaconda3/lib/python3.7/site-packages (from category_encoders) (1.17.2)\n",
      "Requirement already satisfied: statsmodels>=0.6.1 in /Users/filch/opt/anaconda3/lib/python3.7/site-packages (from category_encoders) (0.10.1)\n",
      "Requirement already satisfied: patsy>=0.4.1 in /Users/filch/opt/anaconda3/lib/python3.7/site-packages (from category_encoders) (0.5.1)\n",
      "Requirement already satisfied: pandas>=0.21.1 in /Users/filch/opt/anaconda3/lib/python3.7/site-packages (from category_encoders) (0.25.1)\n",
      "Requirement already satisfied: scikit-learn>=0.20.0 in /Users/filch/opt/anaconda3/lib/python3.7/site-packages (from category_encoders) (0.21.3)\n",
      "Requirement already satisfied: six in /Users/filch/opt/anaconda3/lib/python3.7/site-packages (from patsy>=0.4.1->category_encoders) (1.12.0)\n",
      "Requirement already satisfied: python-dateutil>=2.6.1 in /Users/filch/opt/anaconda3/lib/python3.7/site-packages (from pandas>=0.21.1->category_encoders) (2.8.0)\n",
      "Requirement already satisfied: pytz>=2017.2 in /Users/filch/opt/anaconda3/lib/python3.7/site-packages (from pandas>=0.21.1->category_encoders) (2019.3)\n",
      "Requirement already satisfied: joblib>=0.11 in /Users/filch/opt/anaconda3/lib/python3.7/site-packages (from scikit-learn>=0.20.0->category_encoders) (0.13.2)\n"
     ]
    }
   ],
   "source": [
    "!pip install category_encoders\n",
    "import category_encoders as ce"
   ]
  },
  {
   "cell_type": "code",
   "execution_count": 1203,
   "metadata": {},
   "outputs": [],
   "source": [
    "pd.options.mode.chained_assignment = None"
   ]
  },
  {
   "cell_type": "code",
   "execution_count": 1204,
   "metadata": {
    "colab": {},
    "colab_type": "code",
    "id": "juah2vg130Hx"
   },
   "outputs": [],
   "source": [
    "df = pd.read_csv('https://docs.google.com/spreadsheets/d/e/2PACX-1vTMIUP6_JIoxWSAFCe1h6Hz12r-41t6qHv5cCXIBmYJUK2KS188pKkZnkr4jJRpIcC3mRZV36z21oNv/pub?gid=0&single=true&output=csv')"
   ]
  },
  {
   "cell_type": "code",
   "execution_count": 1205,
   "metadata": {},
   "outputs": [],
   "source": [
    "header_list = ['Date','Weight','Fat','Sleep Debt','REM','Deep Sleep','Snore',\n",
    "     'Meditate','Spanish','Push-ups','Pull-ups','Sit-ups','Coffee','Handstands',\n",
    "     'Acro','Swing','Strain','Calories','AHR','MHR','HRV','RHR','Recovery',\n",
    "     'Carbs','Journal','Spinal Mobility','Flexibility','Notes','DOW',\n",
    "     'Weight_AVR','Fat_AVR','Sleep Debt_AVR','REM_AVR','Deep Sleep_AVR',\n",
    "     'Strain_AVR','Calories_AVR','AHR_AVR','MHR_AVR','HRV_AVR','RHR_AVR',\n",
    "     'Recovery_AVR','Weight_PASS','Fat_PASS','Sleep Debt_PASS','REM_PASS',\n",
    "     'Deep Sleep_PASS','Strain_PASS','Calories_PASS','AHR_PASS','MHR_PASS',\n",
    "     'HRV_PASS','RHR_PASS','Recovery_PASS']"
   ]
  },
  {
   "cell_type": "code",
   "execution_count": 1206,
   "metadata": {},
   "outputs": [],
   "source": [
    "df = df.reindex(columns = header_list)"
   ]
  },
  {
   "cell_type": "code",
   "execution_count": 1207,
   "metadata": {
    "colab": {},
    "colab_type": "code",
    "id": "aVpNpl__5vni"
   },
   "outputs": [],
   "source": [
    "df['Date'] = pd.to_datetime(df['Date'])\n",
    "\n",
    "for i in range(len(df)):\n",
    "    df['DOW'][i] = df['Date'][i].day_name()"
   ]
  },
  {
   "cell_type": "code",
   "execution_count": 1208,
   "metadata": {},
   "outputs": [],
   "source": [
    "features = ['Weight','Fat','Sleep Debt','REM','Deep Sleep','Strain','Calories','AHR','MHR','HRV','RHR','Recovery']\n",
    "special_features = ['Sleep Debt','AHR','RHR']\n",
    "drops = ['Acro','Meditate','Snore','Coffee','Handstands','Spanish','Push-ups',\n",
    "         'Pull-ups','Sit-ups','Swing','Carbs','Journal','Spinal Mobility',\n",
    "         'Flexibility','Notes']\n",
    "week_day = ['Sunday','Monday','Tuesday','Wednesday','Thursday','Friday','Saturday']"
   ]
  },
  {
   "cell_type": "code",
   "execution_count": 1209,
   "metadata": {},
   "outputs": [],
   "source": [
    "for each in features:\n",
    "    df[each] = df[each].interpolate(method='linear')"
   ]
  },
  {
   "cell_type": "code",
   "execution_count": 1210,
   "metadata": {},
   "outputs": [],
   "source": [
    "df = df.drop(labels=drops,axis=1)"
   ]
  },
  {
   "cell_type": "code",
   "execution_count": 1211,
   "metadata": {},
   "outputs": [],
   "source": [
    "for i in range(0,df.shape[0]-1):\n",
    "    for j in range(len(features)):\n",
    "        string = features[j] + '_AVR'\n",
    "        df[string] = df.iloc[:,j+1].expanding(min_periods=7).mean()\n",
    "        #print(i,\":\",features[j],\":\",df[string][i])"
   ]
  },
  {
   "cell_type": "markdown",
   "metadata": {},
   "source": [
    "features = ['Weight','Fat','Sleep Debt','REM','Deep Sleep','Strain','Calories','AHR','MHR','HRV','RHR','Recovery']\n",
    "\n",
    "special_features = ['Sleep Debt','AHR','RHR']"
   ]
  },
  {
   "cell_type": "code",
   "execution_count": 1212,
   "metadata": {},
   "outputs": [],
   "source": [
    "for i in range(0,df.shape[0]-1):\n",
    "    for j in range(len(features)):\n",
    "            score = features[j] + '_PASS'\n",
    "            avr = features[j] + '_AVR'\n",
    "\n",
    "            if features[j] not in [special_features]:\n",
    "                \n",
    "                if df[features[j]][i] >= df[avr][i]:\n",
    "                    df[score][i] = \"Y\"\n",
    "                    \n",
    "                else:\n",
    "                    df[score][i] = \"N\"\n",
    "                    \n",
    "            elif features[j] in [special_features]:\n",
    "                    \n",
    "                if df[features[j]][i] <= df[avr][i]:\n",
    "                    df[score][i] = \"Y\"\n",
    "                    \n",
    "                else:\n",
    "                    df[score][i] = \"N\"\n",
    "                   "
   ]
  },
  {
   "cell_type": "code",
   "execution_count": 1213,
   "metadata": {},
   "outputs": [
    {
     "data": {
      "text/html": [
       "<div>\n",
       "<style scoped>\n",
       "    .dataframe tbody tr th:only-of-type {\n",
       "        vertical-align: middle;\n",
       "    }\n",
       "\n",
       "    .dataframe tbody tr th {\n",
       "        vertical-align: top;\n",
       "    }\n",
       "\n",
       "    .dataframe thead th {\n",
       "        text-align: right;\n",
       "    }\n",
       "</style>\n",
       "<table border=\"1\" class=\"dataframe\">\n",
       "  <thead>\n",
       "    <tr style=\"text-align: right;\">\n",
       "      <th></th>\n",
       "      <th>Weight</th>\n",
       "      <th>Fat</th>\n",
       "      <th>Sleep Debt</th>\n",
       "      <th>REM</th>\n",
       "      <th>Deep Sleep</th>\n",
       "      <th>Strain</th>\n",
       "      <th>Calories</th>\n",
       "      <th>AHR</th>\n",
       "      <th>MHR</th>\n",
       "      <th>HRV</th>\n",
       "      <th>...</th>\n",
       "      <th>Sleep Debt_AVR</th>\n",
       "      <th>REM_AVR</th>\n",
       "      <th>Deep Sleep_AVR</th>\n",
       "      <th>Strain_AVR</th>\n",
       "      <th>Calories_AVR</th>\n",
       "      <th>AHR_AVR</th>\n",
       "      <th>MHR_AVR</th>\n",
       "      <th>HRV_AVR</th>\n",
       "      <th>RHR_AVR</th>\n",
       "      <th>Recovery_AVR</th>\n",
       "    </tr>\n",
       "  </thead>\n",
       "  <tbody>\n",
       "    <tr>\n",
       "      <td>count</td>\n",
       "      <td>587.000000</td>\n",
       "      <td>587.000000</td>\n",
       "      <td>587.000000</td>\n",
       "      <td>587.000000</td>\n",
       "      <td>587.000000</td>\n",
       "      <td>587.000000</td>\n",
       "      <td>587.000000</td>\n",
       "      <td>587.000000</td>\n",
       "      <td>587.000000</td>\n",
       "      <td>587.000000</td>\n",
       "      <td>...</td>\n",
       "      <td>581.000000</td>\n",
       "      <td>581.000000</td>\n",
       "      <td>581.000000</td>\n",
       "      <td>581.000000</td>\n",
       "      <td>581.000000</td>\n",
       "      <td>581.000000</td>\n",
       "      <td>581.000000</td>\n",
       "      <td>581.000000</td>\n",
       "      <td>581.000000</td>\n",
       "      <td>581.000000</td>\n",
       "    </tr>\n",
       "    <tr>\n",
       "      <td>mean</td>\n",
       "      <td>152.286882</td>\n",
       "      <td>13.389949</td>\n",
       "      <td>86.613288</td>\n",
       "      <td>74.321976</td>\n",
       "      <td>73.092845</td>\n",
       "      <td>11.532112</td>\n",
       "      <td>2808.166099</td>\n",
       "      <td>79.316014</td>\n",
       "      <td>158.930153</td>\n",
       "      <td>33.931857</td>\n",
       "      <td>...</td>\n",
       "      <td>94.023714</td>\n",
       "      <td>51.161490</td>\n",
       "      <td>66.599461</td>\n",
       "      <td>11.833818</td>\n",
       "      <td>3121.237098</td>\n",
       "      <td>78.537071</td>\n",
       "      <td>156.776707</td>\n",
       "      <td>32.092449</td>\n",
       "      <td>65.476934</td>\n",
       "      <td>49.909536</td>\n",
       "    </tr>\n",
       "    <tr>\n",
       "      <td>std</td>\n",
       "      <td>3.429221</td>\n",
       "      <td>0.790793</td>\n",
       "      <td>24.991448</td>\n",
       "      <td>34.916713</td>\n",
       "      <td>26.893715</td>\n",
       "      <td>2.074627</td>\n",
       "      <td>796.823336</td>\n",
       "      <td>3.957058</td>\n",
       "      <td>6.840874</td>\n",
       "      <td>8.322013</td>\n",
       "      <td>...</td>\n",
       "      <td>6.731922</td>\n",
       "      <td>17.817770</td>\n",
       "      <td>5.898965</td>\n",
       "      <td>0.341223</td>\n",
       "      <td>154.483685</td>\n",
       "      <td>0.429255</td>\n",
       "      <td>1.811351</td>\n",
       "      <td>2.363854</td>\n",
       "      <td>0.525731</td>\n",
       "      <td>1.257957</td>\n",
       "    </tr>\n",
       "    <tr>\n",
       "      <td>min</td>\n",
       "      <td>146.800000</td>\n",
       "      <td>12.200000</td>\n",
       "      <td>0.000000</td>\n",
       "      <td>2.000000</td>\n",
       "      <td>2.000000</td>\n",
       "      <td>4.600000</td>\n",
       "      <td>449.000000</td>\n",
       "      <td>71.000000</td>\n",
       "      <td>132.000000</td>\n",
       "      <td>10.000000</td>\n",
       "      <td>...</td>\n",
       "      <td>81.081633</td>\n",
       "      <td>15.164286</td>\n",
       "      <td>59.182692</td>\n",
       "      <td>10.997115</td>\n",
       "      <td>2808.166099</td>\n",
       "      <td>77.744709</td>\n",
       "      <td>154.131868</td>\n",
       "      <td>24.204082</td>\n",
       "      <td>64.807065</td>\n",
       "      <td>47.496374</td>\n",
       "    </tr>\n",
       "    <tr>\n",
       "      <td>25%</td>\n",
       "      <td>148.932692</td>\n",
       "      <td>12.562019</td>\n",
       "      <td>74.115385</td>\n",
       "      <td>49.427885</td>\n",
       "      <td>56.235577</td>\n",
       "      <td>10.348810</td>\n",
       "      <td>2153.500000</td>\n",
       "      <td>77.103632</td>\n",
       "      <td>154.988095</td>\n",
       "      <td>28.657143</td>\n",
       "      <td>...</td>\n",
       "      <td>89.144501</td>\n",
       "      <td>37.893725</td>\n",
       "      <td>62.640741</td>\n",
       "      <td>11.594821</td>\n",
       "      <td>2992.698936</td>\n",
       "      <td>78.222457</td>\n",
       "      <td>154.800816</td>\n",
       "      <td>32.243772</td>\n",
       "      <td>65.059955</td>\n",
       "      <td>48.900192</td>\n",
       "    </tr>\n",
       "    <tr>\n",
       "      <td>50%</td>\n",
       "      <td>151.400000</td>\n",
       "      <td>13.200000</td>\n",
       "      <td>88.230769</td>\n",
       "      <td>71.000000</td>\n",
       "      <td>74.244444</td>\n",
       "      <td>11.894231</td>\n",
       "      <td>2865.961538</td>\n",
       "      <td>78.230769</td>\n",
       "      <td>157.000000</td>\n",
       "      <td>35.000000</td>\n",
       "      <td>...</td>\n",
       "      <td>90.464724</td>\n",
       "      <td>53.545455</td>\n",
       "      <td>64.324257</td>\n",
       "      <td>11.810185</td>\n",
       "      <td>3164.770042</td>\n",
       "      <td>78.484456</td>\n",
       "      <td>157.153199</td>\n",
       "      <td>32.791068</td>\n",
       "      <td>65.361905</td>\n",
       "      <td>50.327830</td>\n",
       "    </tr>\n",
       "    <tr>\n",
       "      <td>75%</td>\n",
       "      <td>155.821795</td>\n",
       "      <td>14.182692</td>\n",
       "      <td>101.076923</td>\n",
       "      <td>98.055556</td>\n",
       "      <td>86.310897</td>\n",
       "      <td>12.936859</td>\n",
       "      <td>3346.500000</td>\n",
       "      <td>81.000000</td>\n",
       "      <td>162.000000</td>\n",
       "      <td>37.803846</td>\n",
       "      <td>...</td>\n",
       "      <td>98.481308</td>\n",
       "      <td>66.981900</td>\n",
       "      <td>69.481250</td>\n",
       "      <td>12.154068</td>\n",
       "      <td>3267.936813</td>\n",
       "      <td>78.925697</td>\n",
       "      <td>158.465909</td>\n",
       "      <td>33.671141</td>\n",
       "      <td>65.807416</td>\n",
       "      <td>50.665865</td>\n",
       "    </tr>\n",
       "    <tr>\n",
       "      <td>max</td>\n",
       "      <td>159.600000</td>\n",
       "      <td>15.000000</td>\n",
       "      <td>192.000000</td>\n",
       "      <td>200.000000</td>\n",
       "      <td>165.000000</td>\n",
       "      <td>16.800000</td>\n",
       "      <td>5660.000000</td>\n",
       "      <td>93.000000</td>\n",
       "      <td>193.000000</td>\n",
       "      <td>81.000000</td>\n",
       "      <td>...</td>\n",
       "      <td>107.643300</td>\n",
       "      <td>74.321976</td>\n",
       "      <td>84.927778</td>\n",
       "      <td>12.310491</td>\n",
       "      <td>3346.306122</td>\n",
       "      <td>79.323932</td>\n",
       "      <td>159.300195</td>\n",
       "      <td>33.970986</td>\n",
       "      <td>66.627205</td>\n",
       "      <td>53.413265</td>\n",
       "    </tr>\n",
       "  </tbody>\n",
       "</table>\n",
       "<p>8 rows × 24 columns</p>\n",
       "</div>"
      ],
      "text/plain": [
       "           Weight         Fat  Sleep Debt         REM  Deep Sleep      Strain  \\\n",
       "count  587.000000  587.000000  587.000000  587.000000  587.000000  587.000000   \n",
       "mean   152.286882   13.389949   86.613288   74.321976   73.092845   11.532112   \n",
       "std      3.429221    0.790793   24.991448   34.916713   26.893715    2.074627   \n",
       "min    146.800000   12.200000    0.000000    2.000000    2.000000    4.600000   \n",
       "25%    148.932692   12.562019   74.115385   49.427885   56.235577   10.348810   \n",
       "50%    151.400000   13.200000   88.230769   71.000000   74.244444   11.894231   \n",
       "75%    155.821795   14.182692  101.076923   98.055556   86.310897   12.936859   \n",
       "max    159.600000   15.000000  192.000000  200.000000  165.000000   16.800000   \n",
       "\n",
       "          Calories         AHR         MHR         HRV  ...  Sleep Debt_AVR  \\\n",
       "count   587.000000  587.000000  587.000000  587.000000  ...      581.000000   \n",
       "mean   2808.166099   79.316014  158.930153   33.931857  ...       94.023714   \n",
       "std     796.823336    3.957058    6.840874    8.322013  ...        6.731922   \n",
       "min     449.000000   71.000000  132.000000   10.000000  ...       81.081633   \n",
       "25%    2153.500000   77.103632  154.988095   28.657143  ...       89.144501   \n",
       "50%    2865.961538   78.230769  157.000000   35.000000  ...       90.464724   \n",
       "75%    3346.500000   81.000000  162.000000   37.803846  ...       98.481308   \n",
       "max    5660.000000   93.000000  193.000000   81.000000  ...      107.643300   \n",
       "\n",
       "          REM_AVR  Deep Sleep_AVR  Strain_AVR  Calories_AVR     AHR_AVR  \\\n",
       "count  581.000000      581.000000  581.000000    581.000000  581.000000   \n",
       "mean    51.161490       66.599461   11.833818   3121.237098   78.537071   \n",
       "std     17.817770        5.898965    0.341223    154.483685    0.429255   \n",
       "min     15.164286       59.182692   10.997115   2808.166099   77.744709   \n",
       "25%     37.893725       62.640741   11.594821   2992.698936   78.222457   \n",
       "50%     53.545455       64.324257   11.810185   3164.770042   78.484456   \n",
       "75%     66.981900       69.481250   12.154068   3267.936813   78.925697   \n",
       "max     74.321976       84.927778   12.310491   3346.306122   79.323932   \n",
       "\n",
       "          MHR_AVR     HRV_AVR     RHR_AVR  Recovery_AVR  \n",
       "count  581.000000  581.000000  581.000000    581.000000  \n",
       "mean   156.776707   32.092449   65.476934     49.909536  \n",
       "std      1.811351    2.363854    0.525731      1.257957  \n",
       "min    154.131868   24.204082   64.807065     47.496374  \n",
       "25%    154.800816   32.243772   65.059955     48.900192  \n",
       "50%    157.153199   32.791068   65.361905     50.327830  \n",
       "75%    158.465909   33.671141   65.807416     50.665865  \n",
       "max    159.300195   33.970986   66.627205     53.413265  \n",
       "\n",
       "[8 rows x 24 columns]"
      ]
     },
     "execution_count": 1213,
     "metadata": {},
     "output_type": "execute_result"
    }
   ],
   "source": [
    "df.describe()"
   ]
  },
  {
   "cell_type": "code",
   "execution_count": 1214,
   "metadata": {},
   "outputs": [],
   "source": [
    "test = df[df['Date'] >= '12/03/2019']\n",
    "train = df[df['Date'] <= '08/06/2019']\n",
    "val = df[(df['Date'] <= '12/02/2019') & (df['Date'] >= '08/07/2019')]"
   ]
  },
  {
   "cell_type": "code",
   "execution_count": 1215,
   "metadata": {},
   "outputs": [],
   "source": [
    "target = 'Sleep Debt_PASS'\n",
    "# Get a dataframe with all train columns except the target\n",
    "train_features = train.drop(columns=[target])\n",
    "\n",
    "# Get a list of the numeric features\n",
    "numeric_features = train_features.select_dtypes(include='number').columns.tolist()\n",
    "\n",
    "# Get a series with the cardinality of the nonnumeric features\n",
    "cardinality = train_features.select_dtypes(exclude='number').nunique()\n",
    "\n",
    "# Get a list of all categorical features with cardinality <= 50\n",
    "categorical_features = cardinality[cardinality <= 25].index.tolist()\n",
    "\n",
    "# Combine the lists \n",
    "features = numeric_features + categorical_features"
   ]
  },
  {
   "cell_type": "code",
   "execution_count": 1216,
   "metadata": {},
   "outputs": [],
   "source": [
    "X_train = train[features]\n",
    "y_train = train[target]\n",
    "X_val = val[features]\n",
    "y_val = val[target]\n",
    "X_test = test[features]"
   ]
  },
  {
   "cell_type": "code",
   "execution_count": 1228,
   "metadata": {},
   "outputs": [
    {
     "data": {
      "text/plain": [
       "N    0.587805\n",
       "Y    0.412195\n",
       "Name: Sleep Debt_PASS, dtype: float64"
      ]
     },
     "execution_count": 1228,
     "metadata": {},
     "output_type": "execute_result"
    }
   ],
   "source": [
    "y_train.value_counts(normalize=True)"
   ]
  },
  {
   "cell_type": "code",
   "execution_count": 1217,
   "metadata": {},
   "outputs": [],
   "source": [
    "pipeline = make_pipeline(\n",
    "    ce.OneHotEncoder(use_cat_names=True), \n",
    "    SimpleImputer(strategy='mean'), \n",
    "    RandomForestClassifier(max_features='sqrt',n_estimators=100,n_jobs=-1, random_state=42)\n",
    ")"
   ]
  },
  {
   "cell_type": "code",
   "execution_count": 1218,
   "metadata": {},
   "outputs": [
    {
     "name": "stdout",
     "output_type": "stream",
     "text": [
      "Train Accuracy 1.0\n",
      "Validation Accuracy 0.559322033898305\n"
     ]
    }
   ],
   "source": [
    "pipeline.fit(X_train, y_train)\n",
    "print('Train Accuracy', pipeline.score(X_train, y_train))\n",
    "print('Validation Accuracy', pipeline.score(X_val, y_val))"
   ]
  },
  {
   "cell_type": "code",
   "execution_count": 1219,
   "metadata": {},
   "outputs": [],
   "source": [
    "y_pred = pipeline.predict(X_test)"
   ]
  },
  {
   "cell_type": "code",
   "execution_count": 1221,
   "metadata": {},
   "outputs": [
    {
     "data": {
      "text/html": [
       "<div>\n",
       "<style scoped>\n",
       "    .dataframe tbody tr th:only-of-type {\n",
       "        vertical-align: middle;\n",
       "    }\n",
       "\n",
       "    .dataframe tbody tr th {\n",
       "        vertical-align: top;\n",
       "    }\n",
       "\n",
       "    .dataframe thead th {\n",
       "        text-align: right;\n",
       "    }\n",
       "</style>\n",
       "<table border=\"1\" class=\"dataframe\">\n",
       "  <thead>\n",
       "    <tr style=\"text-align: right;\">\n",
       "      <th></th>\n",
       "      <th>Weight</th>\n",
       "      <th>Fat</th>\n",
       "      <th>Sleep Debt</th>\n",
       "      <th>REM</th>\n",
       "      <th>Deep Sleep</th>\n",
       "      <th>Strain</th>\n",
       "      <th>Calories</th>\n",
       "      <th>AHR</th>\n",
       "      <th>MHR</th>\n",
       "      <th>HRV</th>\n",
       "      <th>...</th>\n",
       "      <th>Fat_PASS</th>\n",
       "      <th>REM_PASS</th>\n",
       "      <th>Deep Sleep_PASS</th>\n",
       "      <th>Strain_PASS</th>\n",
       "      <th>Calories_PASS</th>\n",
       "      <th>AHR_PASS</th>\n",
       "      <th>MHR_PASS</th>\n",
       "      <th>HRV_PASS</th>\n",
       "      <th>RHR_PASS</th>\n",
       "      <th>Recovery_PASS</th>\n",
       "    </tr>\n",
       "  </thead>\n",
       "  <tbody>\n",
       "    <tr>\n",
       "      <td>528</td>\n",
       "      <td>157.2</td>\n",
       "      <td>14.4</td>\n",
       "      <td>89.0</td>\n",
       "      <td>94.0</td>\n",
       "      <td>102.0</td>\n",
       "      <td>9.5</td>\n",
       "      <td>1775.0</td>\n",
       "      <td>76.0</td>\n",
       "      <td>160.0</td>\n",
       "      <td>38.0</td>\n",
       "      <td>...</td>\n",
       "      <td>Y</td>\n",
       "      <td>Y</td>\n",
       "      <td>Y</td>\n",
       "      <td>N</td>\n",
       "      <td>N</td>\n",
       "      <td>N</td>\n",
       "      <td>Y</td>\n",
       "      <td>Y</td>\n",
       "      <td>N</td>\n",
       "      <td>Y</td>\n",
       "    </tr>\n",
       "    <tr>\n",
       "      <td>529</td>\n",
       "      <td>157.2</td>\n",
       "      <td>14.4</td>\n",
       "      <td>43.0</td>\n",
       "      <td>123.0</td>\n",
       "      <td>137.0</td>\n",
       "      <td>9.5</td>\n",
       "      <td>2146.0</td>\n",
       "      <td>80.0</td>\n",
       "      <td>160.0</td>\n",
       "      <td>36.0</td>\n",
       "      <td>...</td>\n",
       "      <td>Y</td>\n",
       "      <td>Y</td>\n",
       "      <td>Y</td>\n",
       "      <td>N</td>\n",
       "      <td>N</td>\n",
       "      <td>Y</td>\n",
       "      <td>Y</td>\n",
       "      <td>Y</td>\n",
       "      <td>N</td>\n",
       "      <td>Y</td>\n",
       "    </tr>\n",
       "    <tr>\n",
       "      <td>530</td>\n",
       "      <td>155.5</td>\n",
       "      <td>14.1</td>\n",
       "      <td>96.0</td>\n",
       "      <td>95.0</td>\n",
       "      <td>70.0</td>\n",
       "      <td>11.4</td>\n",
       "      <td>1851.0</td>\n",
       "      <td>82.0</td>\n",
       "      <td>156.0</td>\n",
       "      <td>30.0</td>\n",
       "      <td>...</td>\n",
       "      <td>Y</td>\n",
       "      <td>Y</td>\n",
       "      <td>N</td>\n",
       "      <td>N</td>\n",
       "      <td>N</td>\n",
       "      <td>Y</td>\n",
       "      <td>N</td>\n",
       "      <td>N</td>\n",
       "      <td>N</td>\n",
       "      <td>Y</td>\n",
       "    </tr>\n",
       "    <tr>\n",
       "      <td>531</td>\n",
       "      <td>156.8</td>\n",
       "      <td>14.4</td>\n",
       "      <td>98.0</td>\n",
       "      <td>97.0</td>\n",
       "      <td>88.0</td>\n",
       "      <td>6.1</td>\n",
       "      <td>1713.0</td>\n",
       "      <td>77.0</td>\n",
       "      <td>153.0</td>\n",
       "      <td>46.0</td>\n",
       "      <td>...</td>\n",
       "      <td>Y</td>\n",
       "      <td>Y</td>\n",
       "      <td>Y</td>\n",
       "      <td>N</td>\n",
       "      <td>N</td>\n",
       "      <td>N</td>\n",
       "      <td>N</td>\n",
       "      <td>Y</td>\n",
       "      <td>Y</td>\n",
       "      <td>Y</td>\n",
       "    </tr>\n",
       "    <tr>\n",
       "      <td>532</td>\n",
       "      <td>156.0</td>\n",
       "      <td>14.3</td>\n",
       "      <td>89.0</td>\n",
       "      <td>101.0</td>\n",
       "      <td>81.0</td>\n",
       "      <td>8.2</td>\n",
       "      <td>1834.0</td>\n",
       "      <td>79.0</td>\n",
       "      <td>151.0</td>\n",
       "      <td>28.0</td>\n",
       "      <td>...</td>\n",
       "      <td>Y</td>\n",
       "      <td>Y</td>\n",
       "      <td>Y</td>\n",
       "      <td>N</td>\n",
       "      <td>N</td>\n",
       "      <td>N</td>\n",
       "      <td>N</td>\n",
       "      <td>N</td>\n",
       "      <td>N</td>\n",
       "      <td>N</td>\n",
       "    </tr>\n",
       "  </tbody>\n",
       "</table>\n",
       "<p>5 rows × 36 columns</p>\n",
       "</div>"
      ],
      "text/plain": [
       "     Weight   Fat  Sleep Debt    REM  Deep Sleep  Strain  Calories   AHR  \\\n",
       "528   157.2  14.4        89.0   94.0       102.0     9.5    1775.0  76.0   \n",
       "529   157.2  14.4        43.0  123.0       137.0     9.5    2146.0  80.0   \n",
       "530   155.5  14.1        96.0   95.0        70.0    11.4    1851.0  82.0   \n",
       "531   156.8  14.4        98.0   97.0        88.0     6.1    1713.0  77.0   \n",
       "532   156.0  14.3        89.0  101.0        81.0     8.2    1834.0  79.0   \n",
       "\n",
       "       MHR   HRV  ...  Fat_PASS  REM_PASS  Deep Sleep_PASS  Strain_PASS  \\\n",
       "528  160.0  38.0  ...         Y         Y                Y            N   \n",
       "529  160.0  36.0  ...         Y         Y                Y            N   \n",
       "530  156.0  30.0  ...         Y         Y                N            N   \n",
       "531  153.0  46.0  ...         Y         Y                Y            N   \n",
       "532  151.0  28.0  ...         Y         Y                Y            N   \n",
       "\n",
       "     Calories_PASS  AHR_PASS  MHR_PASS  HRV_PASS  RHR_PASS  Recovery_PASS  \n",
       "528              N         N         Y         Y         N              Y  \n",
       "529              N         Y         Y         Y         N              Y  \n",
       "530              N         Y         N         N         N              Y  \n",
       "531              N         N         N         Y         Y              Y  \n",
       "532              N         N         N         N         N              N  \n",
       "\n",
       "[5 rows x 36 columns]"
      ]
     },
     "execution_count": 1221,
     "metadata": {},
     "output_type": "execute_result"
    }
   ],
   "source": [
    "X_test.head()"
   ]
  },
  {
   "cell_type": "code",
   "execution_count": 1222,
   "metadata": {},
   "outputs": [
    {
     "data": {
      "text/plain": [
       "array(['Y', 'Y', 'Y', 'Y', 'Y', 'Y', 'Y', 'Y', 'Y', 'Y', 'Y', 'Y', 'Y',\n",
       "       'Y', 'Y', 'Y', 'Y', 'Y', 'Y', 'Y', 'Y', 'Y', 'Y', 'Y', 'Y', 'Y',\n",
       "       'Y', 'Y', 'Y', 'Y', 'Y', 'Y', 'Y', 'Y', 'Y', 'Y', 'Y', 'Y', 'Y',\n",
       "       'Y', 'Y', 'Y', 'Y', 'Y', 'Y', 'Y', 'Y', 'Y', 'Y', 'Y', 'Y', 'Y',\n",
       "       'Y', 'Y', 'Y', 'Y', 'Y', 'Y', 'Y'], dtype=object)"
      ]
     },
     "execution_count": 1222,
     "metadata": {},
     "output_type": "execute_result"
    }
   ],
   "source": [
    "y_pred"
   ]
  },
  {
   "cell_type": "code",
   "execution_count": 1223,
   "metadata": {},
   "outputs": [
    {
     "name": "stdout",
     "output_type": "stream",
     "text": [
      "Test Accuracy 1.0\n"
     ]
    }
   ],
   "source": [
    "print('Test Accuracy', pipeline.score(X_test, y_pred))"
   ]
  },
  {
   "cell_type": "code",
   "execution_count": 1224,
   "metadata": {},
   "outputs": [
    {
     "data": {
      "text/plain": [
       "(40.0, 'N', 40.0, 40.0, 'Y', 88.21521335807049)"
      ]
     },
     "execution_count": 1224,
     "metadata": {},
     "output_type": "execute_result"
    }
   ],
   "source": [
    "df['Sleep Debt'][538], df['Sleep Debt_PASS'][538], test['Sleep Debt'][538], X_test['Sleep Debt'][538], np.array(y_pred)[10],X_test['Sleep Debt_AVR'][538]"
   ]
  },
  {
   "cell_type": "code",
   "execution_count": 1225,
   "metadata": {},
   "outputs": [
    {
     "data": {
      "text/plain": [
       "(65.0, 'Y', 65.0, 65.0, 'Y', 64.87291280148423)"
      ]
     },
     "execution_count": 1225,
     "metadata": {},
     "output_type": "execute_result"
    }
   ],
   "source": [
    "df['RHR'][538], df['RHR_PASS'][538], test['RHR'][538], X_test['RHR'][538], np.array(y_pred)[10],X_test['RHR_AVR'][538]"
   ]
  },
  {
   "cell_type": "code",
   "execution_count": 1226,
   "metadata": {},
   "outputs": [
    {
     "data": {
      "text/plain": [
       "(78.0, 'N', 78.0, 78.0, 'Y', 79.09183673469387)"
      ]
     },
     "execution_count": 1226,
     "metadata": {},
     "output_type": "execute_result"
    }
   ],
   "source": [
    "df['AHR'][538], df['AHR_PASS'][538], test['AHR'][538], X_test['AHR'][538], np.array(y_pred)[10],X_test['AHR_AVR'][538]"
   ]
  },
  {
   "cell_type": "code",
   "execution_count": null,
   "metadata": {},
   "outputs": [],
   "source": []
  }
 ],
 "metadata": {
  "colab": {
   "collapsed_sections": [],
   "name": "The Daily",
   "provenance": []
  },
  "kernelspec": {
   "display_name": "Python 3",
   "language": "python",
   "name": "python3"
  },
  "language_info": {
   "codemirror_mode": {
    "name": "ipython",
    "version": 3
   },
   "file_extension": ".py",
   "mimetype": "text/x-python",
   "name": "python",
   "nbconvert_exporter": "python",
   "pygments_lexer": "ipython3",
   "version": "3.7.4"
  }
 },
 "nbformat": 4,
 "nbformat_minor": 4
}
