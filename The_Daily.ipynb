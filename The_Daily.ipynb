{
 "cells": [
  {
   "cell_type": "markdown",
   "metadata": {},
   "source": [
    "#Exploring Sleep Debt & Health Markers\n",
    "\n",
    "Literature shows that the type of good health I seek, that of a physically fit athlete, is best examined with the following rubric.\n",
    "\n",
    "1. According to Wikipedia: \"Sleep debt or sleep deficit is the cumulative effect of not getting enough sleep. A large sleep debt may lead to mental or physical fatigue. There are two kinds of sleep debt: the results of partial sleep deprivation and total sleep deprivation.\" My biggest concern is that sleep deprivation is an indicator of brain degeneration in the elderly. My goal is to work on trending my sleep debt down through sleep hygiene techniques.\n",
    "2. Resting heart rate (RHR) can be the result of a high level of fitness, meditative breathing, and sleep. There are other reasons, such as disease, diet, family history, and medication, which can result in a low resting heart rate. For my health purposes, I expect to see that when I am healthy and doing self-care (such as meditation, high cardio workouts, sleep hygiene, etc.), my resting heart rate will be relatively steady. And if trends present themselves, the RHR will be trending down.\n",
    "3. Maximum heart rate (MHR) is the number of beats the heart makes during strenuous exercise. While a high heart rate can be a sign of a medical issue, it is also an indicator of good health. If during use, the heart beats more often as a result of the exercise, it can be a sign of proper conditioning. There is always a countervailing pressure that as the heart becomes more conditioned, it beats slower. My goal is to grow my MHR or at least stay on an even trendline.\n",
    "4. Heart rate variability (HRV) is the interplay between the sympathetic and parasympathetic branches of the autonomic nervous system. During relaxation, the HRV goes up, and during stress and exercise, the HRV goes down. HRV plays a role as a good indicator of recovery from illness, anxiety, and training. My goal is to drive my average HRV score up over time.\n",
    "5. Calories burned beyond primary body function are an indication of a strengthened heart which lowers the RHR, encourages the MHR upward, and promotes healthy sleep patterns.\n",
    "6. REM sleep is a phase of sleep that lasts approximately 25% of any sleep period. It is commonly associated with the processing of learning, memory, and emotional state. Excessive strain, alcohol, and medical issues can suppress REM sleep. While there are exceptions due to circumstances of medicines, drink, and illness, a healthy sleep pattern should involve rough parity between time spent in REM and deep sleep.\n",
    "7. Deep sleep, or slow-wave sleep, is a phase of sleep most commonly associated with the body recovering from physical exertion during the previous awake period. Excessive strain, alcohol, and medical issues can suppress deep sleep (also called delta wave sleep). While there are exceptions due to circumstances of medicines, alcohol, and illness, a healthy sleep pattern should involve rough parity between time spent in REM and deep sleep."
   ]
  },
  {
   "cell_type": "markdown",
   "metadata": {},
   "source": [
    "##Personal Fitness Markers\n",
    "\n",
    "This study uses personal fitness markers I gathered over the period between February 7, 2018, and February 7, 2020. These two years constitute a big transition in my life between being able to devote a reasonable amount of time and effort to my physical fitness, through some bad injuries, and into a change of life direction into less physical exercise due to injury. These markers were gathered daily through a fitness tracker from Whoop and other methods.  "
   ]
  },
  {
   "cell_type": "code",
   "execution_count": 1086,
   "metadata": {
    "colab": {},
    "colab_type": "code",
    "id": "gtkrED5c3o6x"
   },
   "outputs": [],
   "source": [
    "#import libraries and methods\n",
    "import pandas as pd\n",
    "import numpy as np\n",
    "from sklearn.model_selection import train_test_split\n",
    "from sklearn.preprocessing import OneHotEncoder\n",
    "from sklearn.ensemble import RandomForestClassifier\n",
    "from sklearn.impute import SimpleImputer\n",
    "from sklearn.pipeline import make_pipeline\n",
    "import matplotlib.pyplot as plt"
   ]
  },
  {
   "cell_type": "code",
   "execution_count": 1087,
   "metadata": {},
   "outputs": [
    {
     "name": "stdout",
     "output_type": "stream",
     "text": [
      "Requirement already satisfied: category_encoders in /Users/filch/opt/anaconda3/lib/python3.7/site-packages (2.1.0)\n",
      "Requirement already satisfied: pandas>=0.21.1 in /Users/filch/opt/anaconda3/lib/python3.7/site-packages (from category_encoders) (0.25.1)\n",
      "Requirement already satisfied: numpy>=1.11.3 in /Users/filch/opt/anaconda3/lib/python3.7/site-packages (from category_encoders) (1.17.2)\n",
      "Requirement already satisfied: statsmodels>=0.6.1 in /Users/filch/opt/anaconda3/lib/python3.7/site-packages (from category_encoders) (0.10.1)\n",
      "Requirement already satisfied: patsy>=0.4.1 in /Users/filch/opt/anaconda3/lib/python3.7/site-packages (from category_encoders) (0.5.1)\n",
      "Requirement already satisfied: scipy>=0.19.0 in /Users/filch/opt/anaconda3/lib/python3.7/site-packages (from category_encoders) (1.3.1)\n",
      "Requirement already satisfied: scikit-learn>=0.20.0 in /Users/filch/opt/anaconda3/lib/python3.7/site-packages (from category_encoders) (0.21.3)\n",
      "Requirement already satisfied: python-dateutil>=2.6.1 in /Users/filch/opt/anaconda3/lib/python3.7/site-packages (from pandas>=0.21.1->category_encoders) (2.8.0)\n",
      "Requirement already satisfied: pytz>=2017.2 in /Users/filch/opt/anaconda3/lib/python3.7/site-packages (from pandas>=0.21.1->category_encoders) (2019.3)\n",
      "Requirement already satisfied: six in /Users/filch/opt/anaconda3/lib/python3.7/site-packages (from patsy>=0.4.1->category_encoders) (1.12.0)\n",
      "Requirement already satisfied: joblib>=0.11 in /Users/filch/opt/anaconda3/lib/python3.7/site-packages (from scikit-learn>=0.20.0->category_encoders) (0.13.2)\n"
     ]
    }
   ],
   "source": [
    "!pip install category_encoders\n",
    "import category_encoders as ce"
   ]
  },
  {
   "cell_type": "code",
   "execution_count": 1088,
   "metadata": {},
   "outputs": [],
   "source": [
    "#set some options for the notebook\n",
    "\n",
    "pd.options.display.max_rows = 50\n",
    "pd.options.mode.chained_assignment = None"
   ]
  },
  {
   "cell_type": "code",
   "execution_count": 1089,
   "metadata": {
    "colab": {},
    "colab_type": "code",
    "id": "juah2vg130Hx"
   },
   "outputs": [],
   "source": [
    "#Import the data from a live Google spreadsheet in CSV. This file is updated regularly.\n",
    "\n",
    "df = pd.read_csv('https://docs.google.com/spreadsheets/d/e/2PACX-1vTMIUP6_JIoxWSAFCe1h6Hz12r-41t6qHv5cCXIBmYJUK2KS188pKkZnkr4jJRpIcC3mRZV36z21oNv/pub?gid=0&single=true&output=csv')"
   ]
  },
  {
   "cell_type": "code",
   "execution_count": 1090,
   "metadata": {},
   "outputs": [],
   "source": [
    "#Adding a proper header to the file. Going to do some feature engineering,adding columns, resetting index.\n",
    "\n",
    "header_list = ['Date','Weight','Fat','Sleep Debt','REM','Deep Sleep','Snore',\n",
    "     'Meditate','Spanish','Push-ups','Pull-ups','Sit-ups','Coffee','Handstands',\n",
    "     'Acro','Swing','Strain','Calories','AHR','MHR','HRV','RHR','Recovery',\n",
    "     'Carbs','Journal','Spinal Mobility','Flexibility','Notes','DOW',\n",
    "     'Weight_AVR','Fat_AVR','Sleep Debt_AVR','REM_AVR','Deep Sleep_AVR',\n",
    "     'Strain_AVR','Calories_AVR','AHR_AVR','MHR_AVR','HRV_AVR','RHR_AVR',\n",
    "     'Recovery_AVR','Weight_PASS','Fat_PASS','Sleep Debt_PASS','REM_PASS',\n",
    "     'Deep Sleep_PASS','Strain_PASS','Calories_PASS','AHR_PASS','MHR_PASS',\n",
    "     'HRV_PASS','RHR_PASS','Recovery_PASS']\n",
    "\n",
    "df = df.reindex(columns = header_list)"
   ]
  },
  {
   "cell_type": "code",
   "execution_count": 1091,
   "metadata": {
    "colab": {},
    "colab_type": "code",
    "id": "aVpNpl__5vni"
   },
   "outputs": [],
   "source": [
    "#Setting date column to pandas datetime object and then engineering a day of the week feature.\n",
    "\n",
    "df['Date'] = pd.to_datetime(df['Date'])\n",
    "\n",
    "for i in range(len(df)):\n",
    "    df['DOW'][i] = df['Date'][i].day_name()"
   ]
  },
  {
   "cell_type": "code",
   "execution_count": 1092,
   "metadata": {},
   "outputs": [],
   "source": [
    "#Lists of features to be used in analysis. These are subsets of header_list.\n",
    "\n",
    "features = ['Weight','Fat','Sleep Debt','REM','Deep Sleep','Strain','Calories','AHR','MHR','HRV','RHR','Recovery']\n",
    "\n",
    "special_features = ['Sleep Debt','AHR','RHR']\n",
    "\n",
    "#Note: Dropping DOW which was engineered directly above.\n",
    "drops = ['Acro','Meditate','Snore','Coffee','Handstands','Spanish','Push-ups',\n",
    "         'Pull-ups','Sit-ups','Swing','Carbs','Journal','Spinal Mobility',\n",
    "         'Flexibility','Notes','DOW']\n",
    "\n",
    "week_day = ['Sunday','Monday','Tuesday','Wednesday','Thursday','Friday','Saturday']"
   ]
  },
  {
   "cell_type": "code",
   "execution_count": 1093,
   "metadata": {},
   "outputs": [],
   "source": [
    "#Dropping columns which will not be used in this iteration of this analysis.\n",
    "\n",
    "df = df.drop(labels=drops,axis=1)"
   ]
  },
  {
   "cell_type": "code",
   "execution_count": 1094,
   "metadata": {},
   "outputs": [],
   "source": [
    "#Interpolating columns for missing values. \n",
    "\n",
    "for each in features:\n",
    "    df[each] = df[each].interpolate(method='linear')"
   ]
  },
  {
   "cell_type": "code",
   "execution_count": 1095,
   "metadata": {},
   "outputs": [],
   "source": [
    "#Engineering an average column for each feature.\n",
    "\n",
    "for i in range(0,df.shape[0]-1):\n",
    "    for j in range(len(features)):\n",
    "        string = features[j] + '_AVR'\n",
    "        df[string] = df.iloc[:,j+1].expanding(min_periods=7).mean()"
   ]
  },
  {
   "cell_type": "code",
   "execution_count": 1096,
   "metadata": {},
   "outputs": [],
   "source": [
    "#Using these averages to create a new feature which promotes the marker responses I seek.\n",
    "#For instance I want my sleep debt to be rewarded for going below the average while I want \n",
    "#my MHR to be rewarded for rising.\n",
    "\n",
    "for i in range(len(df)):\n",
    "  for feat in features:\n",
    "    score = feat + '_PASS'\n",
    "    avr = feat + '_AVR'\n",
    "    if feat not in special_features:\n",
    "      if df[feat][i] >= df[avr][i]:\n",
    "        df[score][i] = \"Y\"\n",
    "      else:\n",
    "        df[score][i] = \"N\"\n",
    "    elif feat in special_features:\n",
    "      if df[feat][i] <= df[avr][i]:\n",
    "        df[score][i] = \"Y\"\n",
    "      else:\n",
    "        df[score][i] = \"N\""
   ]
  },
  {
   "cell_type": "markdown",
   "metadata": {},
   "source": [
    "##Visualizations of basic trends."
   ]
  },
  {
   "cell_type": "code",
   "execution_count": null,
   "metadata": {},
   "outputs": [],
   "source": [
    "##Predictive Modeling"
   ]
  },
  {
   "cell_type": "code",
   "execution_count": null,
   "metadata": {},
   "outputs": [],
   "source": [
    "test = df[df['Date'] >= '11/29/2019']\n",
    "train = df[df['Date'] <= '07/24/2019']\n",
    "val = df[(df['Date'] <= '11/28/2019') & (df['Date'] >= '07/25/2019')]"
   ]
  },
  {
   "cell_type": "code",
   "execution_count": null,
   "metadata": {},
   "outputs": [],
   "source": [
    "test.shape, train.shape, val.shape"
   ]
  },
  {
   "cell_type": "code",
   "execution_count": null,
   "metadata": {},
   "outputs": [],
   "source": [
    "target = 'Sleep Debt_PASS'\n",
    "# Get a dataframe with all train columns except the target\n",
    "train_features = train.drop(columns=[target])\n",
    "\n",
    "# Get a list of the numeric features\n",
    "numeric_features = train_features.select_dtypes(include='number').columns.tolist()\n",
    "\n",
    "# Get a series with the cardinality of the nonnumeric features\n",
    "cardinality = train_features.select_dtypes(exclude='number').nunique()\n",
    "\n",
    "# Get a list of all categorical features with cardinality <= 50\n",
    "categorical_features = cardinality[cardinality <= 25].index.tolist()\n",
    "\n",
    "# Combine the lists \n",
    "features = numeric_features + categorical_features"
   ]
  },
  {
   "cell_type": "code",
   "execution_count": null,
   "metadata": {},
   "outputs": [],
   "source": [
    "X_train = train[features]\n",
    "y_train = train[target]\n",
    "X_val = val[features]\n",
    "y_val = val[target]\n",
    "X_test = test[features]\n",
    "y_test = test[target]"
   ]
  },
  {
   "cell_type": "code",
   "execution_count": null,
   "metadata": {},
   "outputs": [],
   "source": [
    "y_train.value_counts(normalize=True)"
   ]
  },
  {
   "cell_type": "markdown",
   "metadata": {},
   "source": [
    "encoder = ce.OneHotEncoder(use_cat_names=True)\n",
    "imputer = SimpleImputer(strategy='mean')\n",
    "rf = RandomForestClassifier(max_features='sqrt',n_estimators=100,n_jobs=-1, random_state=42)\n",
    "X_train = encoder.fit_transform(X_train)\n",
    "X_val = encoder.fit_transform(X_val)\n",
    "X_test = encoder.fit_transform(X_test)\n",
    "#y_train = encoder.fit_transform(y_train)\n",
    "#y_val = encoder.fit_transform(y_val)\n",
    "#y_test = encoder.fit_transform(y_test)\n",
    "X_train = imputer.fit_transform(X_train)\n",
    "X_val = imputer.fit_transform(X_val)\n",
    "X_test = imputer.fit_transform(X_test)\n",
    "#y_train = imputer.fit_transform(y_train)\n",
    "#y_val = imputer.fit_transform(y_val)\n",
    "#y_test = imputer.fit_transform(y_test)\n",
    "X_train = rf.fit(X_train,y_train)\n",
    "X_val = rf.fit(X_val,y_val)\n",
    "X_test = rf.fit(X_test,y_test)\n",
    "#y_train = rf.fit_transform(y_train)\n",
    "#y_val = rf.fit_transform(y_val)\n",
    "#y_test = rf.fit_transform(y_test)"
   ]
  },
  {
   "cell_type": "code",
   "execution_count": null,
   "metadata": {},
   "outputs": [],
   "source": [
    "pipeline = make_pipeline( \n",
    "    ce.OneHotEncoder(use_cat_names=True),\n",
    "    SimpleImputer(strategy='mean'), \n",
    "    RandomForestClassifier(max_features='sqrt',n_estimators=100,n_jobs=-1, random_state=42)\n",
    ")"
   ]
  },
  {
   "cell_type": "code",
   "execution_count": null,
   "metadata": {},
   "outputs": [],
   "source": [
    "pipeline.fit(X_train, y_train)\n",
    "\n",
    "print('Validation Accuracy', pipeline.score(X_val, y_val))"
   ]
  },
  {
   "cell_type": "code",
   "execution_count": null,
   "metadata": {},
   "outputs": [],
   "source": [
    "y_pred = pipeline.predict(X_test)"
   ]
  },
  {
   "cell_type": "markdown",
   "metadata": {},
   "source": [
    "print(\"X_train:\",X_train.shape)\n",
    "print(\"train:\",train.shape)\n",
    "print(\"val:\",val.shape)\n",
    "print(\"X_val:\",X_val.shape)\n",
    "print(\"test:\",test.shape)\n",
    "\n",
    "X_train.head()"
   ]
  },
  {
   "cell_type": "code",
   "execution_count": null,
   "metadata": {},
   "outputs": [],
   "source": [
    "y_pred"
   ]
  },
  {
   "cell_type": "code",
   "execution_count": null,
   "metadata": {},
   "outputs": [],
   "source": [
    "pipeline.score(X_test,y_test)"
   ]
  },
  {
   "cell_type": "markdown",
   "metadata": {},
   "source": [
    "list(X_train.columns.values)"
   ]
  },
  {
   "cell_type": "code",
   "execution_count": null,
   "metadata": {},
   "outputs": [],
   "source": [
    "\n",
    "plt.plot(df['REM_AVR'])\n",
    "plt.plot(df['Deep Sleep_AVR'])\n",
    "\n",
    "plt.title('Sleep')\n",
    "plt.xlabel('Date')\n",
    "plt.ylabel('Minutes');"
   ]
  },
  {
   "cell_type": "code",
   "execution_count": null,
   "metadata": {},
   "outputs": [],
   "source": [
    "plt.plot(df['REM'])\n",
    "plt.plot(df['REM_AVR'])\n",
    "\n",
    "plt.title('Sleep')\n",
    "plt.xlabel('Date')\n",
    "plt.ylabel('Minutes');"
   ]
  },
  {
   "cell_type": "code",
   "execution_count": null,
   "metadata": {},
   "outputs": [],
   "source": [
    "plt.plot(df['Sleep Debt'])\n",
    "plt.plot(df['Sleep Debt_AVR'])\n",
    "\n",
    "plt.title('Sleep')\n",
    "plt.xlabel('Date')\n",
    "plt.ylabel('Minutes');"
   ]
  },
  {
   "cell_type": "code",
   "execution_count": null,
   "metadata": {},
   "outputs": [],
   "source": [
    "plt.plot(df['Deep Sleep'])\n",
    "plt.plot(df['Deep Sleep_AVR'])\n",
    "\n",
    "plt.title('Sleep')\n",
    "plt.xlabel('Date')\n",
    "plt.ylabel('Minutes');"
   ]
  },
  {
   "cell_type": "code",
   "execution_count": null,
   "metadata": {},
   "outputs": [],
   "source": [
    "plt.plot(df['Sleep Debt_AVR'],color=\"blue\")\n",
    "plt.plot(df['HRV_AVR'])\n",
    "plt.plot(df['RHR_AVR'])\n",
    "plt.title('Heart')\n",
    "plt.xlabel('Date')\n",
    "plt.ylabel('Minutes');\n"
   ]
  },
  {
   "cell_type": "code",
   "execution_count": null,
   "metadata": {},
   "outputs": [],
   "source": [
    "plt.plot(df['Deep Sleep_AVR'],color=\"red\")\n",
    "plt.plot(df['Sleep Debt_AVR'],color=\"green\")\n",
    "plt.plot(df['REM_AVR'],color=\"purple\")\n",
    "plt.title('Sleep')\n",
    "plt.xlabel('Date')\n",
    "plt.ylabel('Minutes');"
   ]
  },
  {
   "cell_type": "code",
   "execution_count": null,
   "metadata": {},
   "outputs": [],
   "source": [
    "plt.plot(train['Sleep Debt'])\n",
    "plt.plot(train['HRV'])\n",
    "plt.plot(train['RHR'])\n",
    "plt.title('Heart')\n",
    "plt.xlabel('Date')\n",
    "plt.ylabel('Minutes');"
   ]
  },
  {
   "cell_type": "code",
   "execution_count": null,
   "metadata": {},
   "outputs": [],
   "source": [
    "plt.plot(val['Sleep Debt'])\n",
    "plt.plot(val['HRV'])\n",
    "plt.plot(val['RHR'])\n",
    "plt.title('Heart')\n",
    "plt.xlabel('Date')\n",
    "plt.ylabel('Minutes');"
   ]
  },
  {
   "cell_type": "code",
   "execution_count": null,
   "metadata": {},
   "outputs": [],
   "source": [
    "plt.plot(df['HRV'])\n",
    "plt.plot(df['Recovery'])\n",
    "plt.title('Recovery')\n",
    "plt.xlabel('Date')\n",
    "plt.ylabel('Minutes');"
   ]
  },
  {
   "cell_type": "code",
   "execution_count": null,
   "metadata": {},
   "outputs": [],
   "source": [
    "plt.plot(df['Strain_AVR'])\n",
    "plt.plot(df['Calories_AVR'])\n",
    "plt.plot(df['AHR_AVR'])\n",
    "plt.plot(df['MHR_AVR'])\n",
    "plt.title('Work')\n",
    "plt.xlabel('Date')\n",
    "plt.ylabel('Minutes');"
   ]
  },
  {
   "cell_type": "code",
   "execution_count": null,
   "metadata": {},
   "outputs": [],
   "source": [
    "df['Strain'] = np.log(df['Strain'])"
   ]
  },
  {
   "cell_type": "code",
   "execution_count": null,
   "metadata": {},
   "outputs": [],
   "source": [
    "len(rf.feature_importances_)"
   ]
  },
  {
   "cell_type": "code",
   "execution_count": null,
   "metadata": {},
   "outputs": [],
   "source": [
    "len(X_train.columns)\n"
   ]
  },
  {
   "cell_type": "code",
   "execution_count": null,
   "metadata": {},
   "outputs": [],
   "source": [
    "# Get feature importances\n",
    "rf = pipeline.named_steps['randomforestclassifier']\n",
    "importances = pd.Series(rf.feature_importances_, X_train.columns)\n",
    "\n",
    "# Plot feature importances\n",
    "%matplotlib inline\n",
    "import matplotlib.pyplot as plt\n",
    "\n",
    "n = 20\n",
    "plt.figure(figsize=(10,n/2))\n",
    "plt.title(f'Top {n} features')\n",
    "importances.sort_values()[-n:].plot.barh(color='grey');"
   ]
  },
  {
   "cell_type": "markdown",
   "metadata": {},
   "source": [
    "from sklearn.metrics import roc_auc_score\n",
    "from sklearn.metrics import roc_curve\n",
    "y_pred_proba = pipeline.predict_proba(X_val)[:, -1] # Probability for the last class\n",
    "roc_auc_score(y_val, y_pred_proba)\n",
    "fpr, tpr, thresholds = roc_curve(y_val, y_pred_proba)\n",
    "pd.DataFrame({\n",
    "    'False Positive Rate': fpr, \n",
    "    'True Positive Rate': tpr, \n",
    "    'Threshold': thresholds\n",
    "})\n",
    "\n",
    "\n",
    "import matplotlib.pyplot as plt\n",
    "plt.scatter(fpr, tpr)\n",
    "plt.plot(fpr, tpr)\n",
    "plt.title('ROC curve')\n",
    "plt.xlabel('False Positive Rate')\n",
    "plt.ylabel('True Positive Rate');"
   ]
  },
  {
   "cell_type": "markdown",
   "metadata": {},
   "source": []
  }
 ],
 "metadata": {
  "colab": {
   "collapsed_sections": [],
   "name": "The Daily",
   "provenance": []
  },
  "kernelspec": {
   "display_name": "Python 3",
   "language": "python",
   "name": "python3"
  },
  "language_info": {
   "codemirror_mode": {
    "name": "ipython",
    "version": 3
   },
   "file_extension": ".py",
   "mimetype": "text/x-python",
   "name": "python",
   "nbconvert_exporter": "python",
   "pygments_lexer": "ipython3",
   "version": "3.7.4"
  }
 },
 "nbformat": 4,
 "nbformat_minor": 4
}
